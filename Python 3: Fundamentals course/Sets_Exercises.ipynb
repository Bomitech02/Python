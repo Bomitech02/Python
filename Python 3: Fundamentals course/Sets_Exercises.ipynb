{
  "cells": [
    {
      "cell_type": "markdown",
      "id": "neural-details",
      "metadata": {
        "id": "neural-details"
      },
      "source": [
        "### Exercises"
      ]
    },
    {
      "cell_type": "markdown",
      "id": "liked-hearts",
      "metadata": {
        "id": "liked-hearts"
      },
      "source": [
        "#### Question 1"
      ]
    },
    {
      "cell_type": "markdown",
      "id": "indonesian-municipality",
      "metadata": {
        "id": "indonesian-municipality"
      },
      "source": [
        "You are given a list of strings from which you want to generate all the unique values."
      ]
    },
    {
      "cell_type": "markdown",
      "id": "artificial-heritage",
      "metadata": {
        "id": "artificial-heritage"
      },
      "source": [
        "For example, if you were given this list:\n",
        "\n",
        "```\n",
        "['a', 'A', 'b', 'B', 'B', 'A', 'a', 'c']\n",
        "```\n",
        "\n",
        "your result should contain these values:\n",
        "\n",
        "```\n",
        "['a', 'A', 'b', 'B', 'c']\n",
        "```"
      ]
    },
    {
      "cell_type": "markdown",
      "id": "muslim-hurricane",
      "metadata": {
        "id": "muslim-hurricane"
      },
      "source": [
        "Note that the order of the elements in the resulting list is not important."
      ]
    },
    {
      "cell_type": "markdown",
      "id": "brave-pasta",
      "metadata": {
        "id": "brave-pasta"
      },
      "source": [
        "You can use this list for this exercise."
      ]
    },
    {
      "cell_type": "code",
      "execution_count": null,
      "id": "rotary-mirror",
      "metadata": {
        "colab": {
          "base_uri": "https://localhost:8080/"
        },
        "id": "rotary-mirror",
        "outputId": "c868804d-1282-4796-b613-188817b84c76"
      },
      "outputs": [
        {
          "output_type": "stream",
          "name": "stdout",
          "text": [
            "{'AAPL', 'Aapl', 'MSFT', 'aapl'}\n",
            "{'b', 'c', 'B', 'A', 'a'}\n"
          ]
        }
      ],
      "source": [
        "l = ['AAPL', 'AAPL', 'Aapl', 'aapl', 'MSFT']\n",
        "\n",
        "unique_items_1 = set(l)\n",
        "unique_items_1\n",
        "\n",
        "a = ['a', 'A', 'b', 'B', 'B', 'A', 'a', 'c']\n",
        "unique_items_2 = set(a)\n",
        "print(unique_items_1)\n",
        "print(unique_items_2)"
      ]
    },
    {
      "cell_type": "markdown",
      "id": "closing-massage",
      "metadata": {
        "id": "closing-massage"
      },
      "source": [
        "#### Question 2"
      ]
    },
    {
      "cell_type": "markdown",
      "id": "labeled-bouquet",
      "metadata": {
        "id": "labeled-bouquet"
      },
      "source": [
        "Using the same data we saw in Question 1, the goal is to find all the unique values in a **case-insensitive** fashion."
      ]
    },
    {
      "cell_type": "code",
      "source": [
        "l = ['AAPL', 'AAPL', 'Aapl', 'aapl', 'MSFT']\n",
        "\n",
        "l2 = []\n",
        "for i in l:\n",
        "    l2.append(i.casefold())\n",
        "l2\n",
        "\n",
        "unique_items_1 = set(l2)\n",
        "print(unique_items_1)\n",
        "\n",
        "#This can also be solved using the below\n",
        "unique_values = set()\n",
        "for symbol in l:\n",
        "    unique_values.add(symbol.casefold())\n",
        "print(unique_values)"
      ],
      "metadata": {
        "colab": {
          "base_uri": "https://localhost:8080/"
        },
        "id": "6hhNj1L1xs0-",
        "outputId": "dfc5a05a-4df4-4749-ac45-0a22d272c9dc"
      },
      "id": "6hhNj1L1xs0-",
      "execution_count": null,
      "outputs": [
        {
          "output_type": "stream",
          "name": "stdout",
          "text": [
            "{'aapl', 'msft'}\n",
            "{'aapl', 'msft'}\n"
          ]
        }
      ]
    },
    {
      "cell_type": "markdown",
      "id": "handled-cruise",
      "metadata": {
        "id": "handled-cruise"
      },
      "source": [
        "For example, `AAPL`, `Aapl` and `aapl` should each be considered to be the same value."
      ]
    },
    {
      "cell_type": "markdown",
      "id": "adjacent-southwest",
      "metadata": {
        "id": "adjacent-southwest"
      },
      "source": [
        "#### Question 3"
      ]
    },
    {
      "cell_type": "markdown",
      "id": "authorized-cathedral",
      "metadata": {
        "id": "authorized-cathedral"
      },
      "source": [
        "Given this data structure:"
      ]
    },
    {
      "cell_type": "code",
      "execution_count": null,
      "id": "flying-processor",
      "metadata": {
        "colab": {
          "base_uri": "https://localhost:8080/"
        },
        "id": "flying-processor",
        "outputId": "2f863ed5-d093-4432-86e9-5a4a29f73daa"
      },
      "outputs": [
        {
          "output_type": "stream",
          "name": "stdout",
          "text": [
            "{'b', 'c', 'a', 'd', 'x'}\n",
            "{'b', 'c', 'a', 'd', 'x'}\n",
            "{'b', 'c', 'a', 'd', 'x'}\n",
            "{'b', 'c', 'a', 'd', 'x'}\n"
          ]
        }
      ],
      "source": [
        "data = {\n",
        "    'd1': {'a': 1, 'b': 2, 'c': 3},\n",
        "    'd2': {'b': 20, 'c': 30, 'd': 40},\n",
        "    'd3': {'d': 100, 'x': 200}\n",
        "}\n",
        "\n",
        "#Solution 1\n",
        "new = set()\n",
        "for key, values in data.items():\n",
        "  for i, j in values.items():\n",
        "    new.add(i)\n",
        "\n",
        "print(new)\n",
        "\n",
        "# Another way to solve it\n",
        "output = []\n",
        "for i in data:\n",
        "  output.extend(list(data[i].keys()))\n",
        "output\n",
        "new_set = set(output)\n",
        "print(new_set)\n",
        "\n",
        "#Another way of solving this without using for loop\n",
        "\n",
        "list_1 = list(data['d1'].keys())\n",
        "list_2 = list(data['d2'].keys())\n",
        "list_3 = list(data['d3'].keys())\n",
        "\n",
        "list_1.extend(list_2)\n",
        "list_1.extend(list_3)\n",
        "list_1\n",
        "\n",
        "unique_list = set(list_1)\n",
        "print(unique_list)\n",
        "\n",
        "#Another method based on provided solution\n",
        "result = set()\n",
        "for d in data.values():\n",
        "    result = result | d.keys()\n",
        "\n",
        "print(result)"
      ]
    },
    {
      "cell_type": "markdown",
      "source": [],
      "metadata": {
        "id": "gOxiFCmPwpM4"
      },
      "id": "gOxiFCmPwpM4"
    },
    {
      "cell_type": "markdown",
      "id": "emotional-respect",
      "metadata": {
        "id": "emotional-respect"
      },
      "source": [
        "Find all the unique keys in the sub-dictionaries.\n",
        "\n",
        "In this case above, your result should be:\n",
        "\n",
        "```\n",
        "{'a', 'b', 'c', 'd', 'x'}\n",
        "```\n",
        "\n",
        "Of course, the order in the result is irrelevant (there is no ordering in sets)."
      ]
    }
  ],
  "metadata": {
    "kernelspec": {
      "display_name": "Python 3",
      "language": "python",
      "name": "python3"
    },
    "language_info": {
      "codemirror_mode": {
        "name": "ipython",
        "version": 3
      },
      "file_extension": ".py",
      "mimetype": "text/x-python",
      "name": "python",
      "nbconvert_exporter": "python",
      "pygments_lexer": "ipython3",
      "version": "3.9.1"
    },
    "colab": {
      "provenance": []
    }
  },
  "nbformat": 4,
  "nbformat_minor": 5
}