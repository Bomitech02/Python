{
  "nbformat": 4,
  "nbformat_minor": 0,
  "metadata": {
    "colab": {
      "provenance": [],
      "authorship_tag": "ABX9TyPlizXdH7qo0ziufVvwQ4Pn",
      "include_colab_link": true
    },
    "kernelspec": {
      "name": "python3",
      "display_name": "Python 3"
    },
    "language_info": {
      "name": "python"
    }
  },
  "cells": [
    {
      "cell_type": "markdown",
      "metadata": {
        "id": "view-in-github",
        "colab_type": "text"
      },
      "source": [
        "<a href=\"https://colab.research.google.com/github/Bomitech02/Python/blob/main/Python%203%3A%20Fundamentals%20course/Higher_order_function_practice.ipynb\" target=\"_parent\"><img src=\"https://colab.research.google.com/assets/colab-badge.svg\" alt=\"Open In Colab\"/></a>"
      ]
    },
    {
      "cell_type": "code",
      "execution_count": null,
      "metadata": {
        "colab": {
          "base_uri": "https://localhost:8080/"
        },
        "id": "-I6RVBjAI214",
        "outputId": "02fedbc4-94a3-4af6-d63f-8aeb13330d9d"
      },
      "outputs": [
        {
          "output_type": "stream",
          "name": "stdout",
          "text": [
            "Hello Olasubomi Oyetoso !\n",
            "Hello Olasubomi Oyetoso !\n"
          ]
        }
      ],
      "source": [
        "#Higher order function\n",
        "def print_name(FName, LName):\n",
        "  def merge_name():\n",
        "    return ' '.join([FName, LName])\n",
        "  \n",
        "  return ' '.join(['Hello', merge_name(), '!'])\n",
        "\n",
        "print(print_name('Olasubomi', 'Oyetoso'))\n",
        "\n",
        "#Normal function\n",
        "def print_name(FName, LName):\n",
        "  a = ' '.join(['Hello', FName, LName, '!'])\n",
        "  return a\n",
        "\n",
        "print(print_name('Olasubomi', 'Oyetoso'))"
      ]
    },
    {
      "cell_type": "code",
      "source": [
        "def add_(a, b):\n",
        "  return a + b\n",
        "\n",
        "def greet(name):\n",
        "  return 'Hello ' + name + '!'\n",
        "\n",
        "def apply(func, *args):\n",
        "  result = func(*args)\n",
        "  return result\n",
        "\n",
        "apply(add_, 3, 5)\n",
        "\n"
      ],
      "metadata": {
        "colab": {
          "base_uri": "https://localhost:8080/"
        },
        "id": "5zHdN0BzObC2",
        "outputId": "162dd089-2a94-47ad-f9de-4367825d7168"
      },
      "execution_count": null,
      "outputs": [
        {
          "output_type": "execute_result",
          "data": {
            "text/plain": [
              "8"
            ]
          },
          "metadata": {},
          "execution_count": 90
        }
      ]
    },
    {
      "cell_type": "code",
      "source": [
        "def add_(*args):\n",
        "  out = sum(args)\n",
        "  return out\n",
        "\n",
        "def greet(name):\n",
        "  return 'Hello ' + name + '!'\n",
        "\n",
        "def apply(func, *args):\n",
        "  result = func(*args)\n",
        "  return result\n",
        "\n",
        "print(apply(greet, 'Sola'), end='')\n",
        "\n",
        "print(', the result of is ', apply(add_, 3, 4, 5))"
      ],
      "metadata": {
        "colab": {
          "base_uri": "https://localhost:8080/"
        },
        "id": "DGlXiJtDPYvb",
        "outputId": "636d7c2c-d445-4610-8f75-6ded50fffffc"
      },
      "execution_count": null,
      "outputs": [
        {
          "output_type": "stream",
          "name": "stdout",
          "text": [
            "Hello Sola!, the result of is  12\n"
          ]
        }
      ]
    },
    {
      "cell_type": "code",
      "source": [
        "def choose_op(name):\n",
        "\n",
        "  def add(*args):\n",
        "    return sum(args)\n",
        "  \n",
        "  def mult(a, b):\n",
        "    return a * b\n",
        "    \n",
        "  def power(a, n):\n",
        "    return a ** n\n",
        "  \n",
        "  if name == 'add':\n",
        "    return add\n",
        "  \n",
        "  if name == 'mult':\n",
        "    return mult\n",
        "  \n",
        "  if name == 'power':\n",
        "    return power\n",
        "\n",
        "M = choose_op('mult')\n",
        "\n",
        "M(52, 5)\n",
        "\n",
        "A = choose_op('add')\n",
        "\n",
        "A(2, 3, 4)\n",
        "\n",
        "P = choose_op('power')\n",
        "\n",
        "P(52, 5)"
      ],
      "metadata": {
        "colab": {
          "base_uri": "https://localhost:8080/"
        },
        "id": "kNJpQVeSSaxS",
        "outputId": "d836d3c9-bdf4-4de0-e4e3-f172a0672168"
      },
      "execution_count": null,
      "outputs": [
        {
          "output_type": "execute_result",
          "data": {
            "text/plain": [
              "380204032"
            ]
          },
          "metadata": {},
          "execution_count": 92
        }
      ]
    },
    {
      "cell_type": "code",
      "source": [
        "from time import perf_counter\n",
        "\n",
        "def in_list(element, l):\n",
        "  return element in l\n",
        "\n",
        "def in_tuple(element, t):\n",
        "  return element in t\n",
        "\n",
        "def in_set(element, s):\n",
        "  return element in s\n",
        "\n",
        "def timer(func, *args):\n",
        "  start = perf_counter()\n",
        "\n",
        "  result = func(*args)\n",
        "\n",
        "  end = perf_counter()\n",
        "  print(f'Time elapsed is {end - start}')\n",
        "  print(result)\n",
        "\n",
        "\n",
        "n = 10_000_000\n",
        "l = list(range(n))\n",
        "t = tuple(range(n))\n",
        "s = set(range(n))\n",
        "\n",
        "el = 5_000_000\n",
        "\n",
        "timer(in_list, el, l)"
      ],
      "metadata": {
        "colab": {
          "base_uri": "https://localhost:8080/"
        },
        "id": "mMVDSiKwbp63",
        "outputId": "e4963a18-af18-4450-bf90-0a65f696f1ff"
      },
      "execution_count": null,
      "outputs": [
        {
          "output_type": "stream",
          "name": "stdout",
          "text": [
            "Time elapsed is 0.05508774900044955\n",
            "True\n"
          ]
        }
      ]
    },
    {
      "cell_type": "code",
      "source": [
        "timer(in_set, el, l)"
      ],
      "metadata": {
        "colab": {
          "base_uri": "https://localhost:8080/"
        },
        "id": "GdBMHEwlpP5h",
        "outputId": "084e9b25-c33f-4749-cd16-b708bdf9df3b"
      },
      "execution_count": null,
      "outputs": [
        {
          "output_type": "stream",
          "name": "stdout",
          "text": [
            "Time elapsed is 0.05663972799993644\n",
            "True\n"
          ]
        }
      ]
    },
    {
      "cell_type": "code",
      "source": [
        "timer(in_tuple, el, l)"
      ],
      "metadata": {
        "colab": {
          "base_uri": "https://localhost:8080/"
        },
        "id": "hlZ6x3YLpduO",
        "outputId": "3780f4ff-05b9-4e3d-db53-6fda5d89801e"
      },
      "execution_count": null,
      "outputs": [
        {
          "output_type": "stream",
          "name": "stdout",
          "text": [
            "Time elapsed is 0.05530112699852907\n",
            "True\n"
          ]
        }
      ]
    },
    {
      "cell_type": "code",
      "source": [
        "def num(x, y = 2):\n",
        "  return x ** y\n",
        "\n",
        "list_ = [1, 2, 3, 4]\n",
        "\n",
        "x = map(num, list_)\n",
        "list(x)"
      ],
      "metadata": {
        "colab": {
          "base_uri": "https://localhost:8080/"
        },
        "id": "kgupDQcuDT79",
        "outputId": "8aa1079f-e83f-4c23-f3f2-6274717016e9"
      },
      "execution_count": null,
      "outputs": [
        {
          "output_type": "execute_result",
          "data": {
            "text/plain": [
              "[1, 4, 9, 16]"
            ]
          },
          "metadata": {},
          "execution_count": 96
        }
      ]
    },
    {
      "cell_type": "code",
      "source": [
        "def executor(func):\n",
        "  def inner(a, b):\n",
        "    return func(a, b)\n",
        "  return inner\n",
        "\n",
        "def add (a, b):\n",
        "  return a + b\n",
        "\n",
        "add_executor = executor(add)\n",
        "add_executor.__closure__\n",
        "add_executor(10, 5)"
      ],
      "metadata": {
        "colab": {
          "base_uri": "https://localhost:8080/"
        },
        "id": "Nbe6qnY_QPe3",
        "outputId": "e4377982-45de-4490-e1d8-36d6975b2126"
      },
      "execution_count": null,
      "outputs": [
        {
          "output_type": "execute_result",
          "data": {
            "text/plain": [
              "15"
            ]
          },
          "metadata": {},
          "execution_count": 97
        }
      ]
    },
    {
      "cell_type": "code",
      "source": [
        "#Creating a diagonal matrix\n",
        "\n",
        "def matrix(row, col, diagonal = -1):\n",
        "  result = [\n",
        "      [\n",
        "          diagonal if row == col else 0\n",
        "          for row in range(row)\n",
        "       ] for col in range(col)\n",
        "      \n",
        "  ]\n",
        "  return result\n",
        "\n",
        "print(matrix(5, 5, diagonal = 2))\n",
        "\n",
        "def factorial(n):\n",
        "  prod = 1\n",
        "  for i in range(2, n+1):\n",
        "    prod = prod * i\n",
        "  return prod\n",
        "\n",
        "print(factorial(5))\n",
        "\n",
        "def timer(func, *args, **kwargs):\n",
        "  start = perf_counter()\n",
        "\n",
        "  result = func(*args, **kwargs)\n",
        "\n",
        "  end = perf_counter()\n",
        "\n",
        "  print(f'Total time elapsed is {end - start}')\n",
        "\n",
        "timer(factorial, 10)\n",
        "\n",
        "timer(matrix, 10, 10)\n"
      ],
      "metadata": {
        "colab": {
          "base_uri": "https://localhost:8080/"
        },
        "id": "CctkU-DybwnR",
        "outputId": "b24818aa-c16b-44f3-cd60-931164453378"
      },
      "execution_count": null,
      "outputs": [
        {
          "output_type": "stream",
          "name": "stdout",
          "text": [
            "[[2, 0, 0, 0, 0], [0, 2, 0, 0, 0], [0, 0, 2, 0, 0], [0, 0, 0, 2, 0], [0, 0, 0, 0, 2]]\n",
            "120\n",
            "Total time elapsed is 3.963999915868044e-06\n",
            "Total time elapsed is 2.3736000002827495e-05\n"
          ]
        }
      ]
    },
    {
      "cell_type": "code",
      "source": [
        "#defining the functions as below helps simplifies it when calling\n",
        "\n",
        "def timer(func):\n",
        "\n",
        "  def inner(*args, **kwargs):\n",
        "    start = perf_counter()\n",
        "    result = func(*args, **kwargs)\n",
        "    end = perf_counter()\n",
        "    \n",
        "    print(f'Total time elapsed is {end - start}')\n",
        "    return result\n",
        "\n",
        "  return inner\n",
        "\n",
        "timed_fact = timer(factorial)\n",
        "\n",
        "timed_fact(5)\n",
        "\n",
        "timed_matrix = timer(matrix)\n",
        "timed_matrix(10, 10, -100)"
      ],
      "metadata": {
        "colab": {
          "base_uri": "https://localhost:8080/"
        },
        "id": "I3Hf9ALhjzBn",
        "outputId": "65b6a10d-dd8a-43e3-b983-d31518f234d8"
      },
      "execution_count": 127,
      "outputs": [
        {
          "output_type": "stream",
          "name": "stdout",
          "text": [
            "Total time elapsed is 3.42900057148654e-06\n",
            "Total time elapsed is 1.5716999769210815e-05\n"
          ]
        },
        {
          "output_type": "execute_result",
          "data": {
            "text/plain": [
              "[[-100, 0, 0, 0, 0, 0, 0, 0, 0, 0],\n",
              " [0, -100, 0, 0, 0, 0, 0, 0, 0, 0],\n",
              " [0, 0, -100, 0, 0, 0, 0, 0, 0, 0],\n",
              " [0, 0, 0, -100, 0, 0, 0, 0, 0, 0],\n",
              " [0, 0, 0, 0, -100, 0, 0, 0, 0, 0],\n",
              " [0, 0, 0, 0, 0, -100, 0, 0, 0, 0],\n",
              " [0, 0, 0, 0, 0, 0, -100, 0, 0, 0],\n",
              " [0, 0, 0, 0, 0, 0, 0, -100, 0, 0],\n",
              " [0, 0, 0, 0, 0, 0, 0, 0, -100, 0],\n",
              " [0, 0, 0, 0, 0, 0, 0, 0, 0, -100]]"
            ]
          },
          "metadata": {},
          "execution_count": 127
        }
      ]
    }
  ]
}