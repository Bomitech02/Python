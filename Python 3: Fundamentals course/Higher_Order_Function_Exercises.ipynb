{
  "cells": [
    {
      "cell_type": "markdown",
      "metadata": {
        "id": "view-in-github",
        "colab_type": "text"
      },
      "source": [
        "<a href=\"https://colab.research.google.com/github/Bomitech02/Python/blob/main/Python%203%3A%20Fundamentals%20course/Higher_Order_Function_Exercises.ipynb\" target=\"_parent\"><img src=\"https://colab.research.google.com/assets/colab-badge.svg\" alt=\"Open In Colab\"/></a>"
      ]
    },
    {
      "cell_type": "markdown",
      "id": "tight-homework",
      "metadata": {
        "id": "tight-homework"
      },
      "source": [
        "### Exercises"
      ]
    },
    {
      "cell_type": "markdown",
      "id": "focused-phone",
      "metadata": {
        "id": "focused-phone"
      },
      "source": [
        "#### Question 1"
      ]
    },
    {
      "cell_type": "markdown",
      "id": "accomplished-livestock",
      "metadata": {
        "id": "accomplished-livestock"
      },
      "source": [
        "We want to write a function that can find an approximate maximum or minimum of some given function over some given range."
      ]
    },
    {
      "cell_type": "markdown",
      "id": "exempt-heater",
      "metadata": {
        "id": "exempt-heater"
      },
      "source": [
        "deFor example, given some function:\n",
        "\n",
        "```\n",
        "f(x) = x**2 - 1\n",
        "```\n",
        "\n",
        "our function should return an approximate minimum (or maximum) of `f` over some given range, say `[-5, 5]`."
      ]
    },
    {
      "cell_type": "code",
      "source": [
        "def func(args):\n",
        "  result = []\n",
        "  a = args[0]\n",
        "  b = args[1]\n",
        "  for i in range(a, b):\n",
        "    result.append(i ** 2 - 1)\n",
        "  print(result)\n",
        "  \n",
        "  return max(result)\n",
        "  \n",
        "func([-5, 5])\n"
      ],
      "metadata": {
        "colab": {
          "base_uri": "https://localhost:8080/"
        },
        "id": "wQ8y70YR1HUI",
        "outputId": "39434d46-b189-4d56-9a9c-04833a0a44cf"
      },
      "id": "wQ8y70YR1HUI",
      "execution_count": 34,
      "outputs": [
        {
          "output_type": "stream",
          "name": "stdout",
          "text": [
            "[24, 15, 8, 3, 0, -1, 0, 3, 8, 15]\n"
          ]
        },
        {
          "output_type": "execute_result",
          "data": {
            "text/plain": [
              "24"
            ]
          },
          "metadata": {},
          "execution_count": 34
        }
      ]
    },
    {
      "cell_type": "code",
      "source": [
        "x = [1,2,3,4,5]\n",
        "min(x)\n",
        "\n",
        "args = [5, 6]\n",
        "a = args[0]\n",
        "b = args[1]\n",
        "\n",
        "b, a"
      ],
      "metadata": {
        "colab": {
          "base_uri": "https://localhost:8080/"
        },
        "id": "-xO_gHi91xsO",
        "outputId": "e08b3bc2-40a8-40d2-ee9a-ec4a25425e68"
      },
      "id": "-xO_gHi91xsO",
      "execution_count": 23,
      "outputs": [
        {
          "output_type": "execute_result",
          "data": {
            "text/plain": [
              "(6, 5)"
            ]
          },
          "metadata": {},
          "execution_count": 23
        }
      ]
    },
    {
      "cell_type": "markdown",
      "id": "closing-belle",
      "metadata": {
        "id": "closing-belle"
      },
      "source": [
        "We'll do this by essentially splitting our intervals into `n` points (what I'll call the `resolution`), evaluating the function at each of these points, and returning either the min or the max."
      ]
    },
    {
      "cell_type": "markdown",
      "id": "comfortable-aviation",
      "metadata": {
        "id": "comfortable-aviation"
      },
      "source": [
        "We want this function to be generic, so it should have the following parameters:\n",
        "- a function of one variable\n",
        "- a range of values defined by start/end values\n",
        "- a value indicating the \"resolution\"\n",
        "- a value indicating whether we want the min or the max"
      ]
    },
    {
      "cell_type": "markdown",
      "id": "fiscal-exclusive",
      "metadata": {
        "id": "fiscal-exclusive"
      },
      "source": [
        "#### Question 2"
      ]
    },
    {
      "cell_type": "markdown",
      "id": "tribal-irrigation",
      "metadata": {
        "id": "tribal-irrigation"
      },
      "source": [
        "You are given a function of two variables, and a list of tuples containing the values for the two variables."
      ]
    },
    {
      "cell_type": "markdown",
      "id": "guilty-opposition",
      "metadata": {
        "id": "guilty-opposition"
      },
      "source": [
        "Create a list that is the result of calling the function on each values in the list, using three different techniques:\n",
        "- a `for` loop\n",
        "- a list comprehension\n",
        "- the `map` function\n",
        "\n",
        "Use the `timeit` function to time each approach.\n",
        "\n",
        "Hint: write a function that implements each approach, and then time calling those functions using the `timeit` function (`from timeit import timeit` - we've used it before). Also you will want to specify `number=10` or something like that when you run `timeit` - unless you want to sit there watvhing your screen for quite a while :-)"
      ]
    },
    {
      "cell_type": "code",
      "execution_count": null,
      "id": "prompt-investigator",
      "metadata": {
        "id": "prompt-investigator"
      },
      "outputs": [],
      "source": [
        "import math\n",
        "\n",
        "def func(point):\n",
        "    # expect point to be a sequence of two values\n",
        "    x, y = point\n",
        "    return math.hypot(x, y)  \n",
        "    # hypot is a function that calculates sqrt(x**2 + y**2), given a sequence (x, y)\n",
        "\n",
        "points = [\n",
        "    (0, 0),\n",
        "    (1, 1),\n",
        "    (10, 20),\n",
        "    (math.pi, math.e)\n",
        "]"
      ]
    },
    {
      "cell_type": "markdown",
      "id": "tutorial-absolute",
      "metadata": {
        "id": "tutorial-absolute"
      },
      "source": [
        "Your result for `points` should be:\n",
        "\n",
        "```\n",
        "[0.0, 1.4142135623730951, 22.360679774997898, 4.154354402313314]\n",
        "```"
      ]
    },
    {
      "cell_type": "markdown",
      "id": "digital-september",
      "metadata": {
        "id": "digital-september"
      },
      "source": [
        "For timing purposes, use a larger set of points, like this one:"
      ]
    },
    {
      "cell_type": "code",
      "execution_count": null,
      "id": "informal-equality",
      "metadata": {
        "id": "informal-equality"
      },
      "outputs": [],
      "source": [
        "points_large = [(math.sin(x), math.cos(x)) for x in range(1, 1_000_000)]"
      ]
    },
    {
      "cell_type": "markdown",
      "id": "caroline-analysis",
      "metadata": {
        "id": "caroline-analysis"
      },
      "source": [
        "#### Question 3"
      ]
    },
    {
      "cell_type": "markdown",
      "id": "special-stuart",
      "metadata": {
        "id": "special-stuart"
      },
      "source": [
        "Write a function that returns a function with all arguments, except the first one, prefilled with certain values provided to the outer function."
      ]
    },
    {
      "cell_type": "markdown",
      "id": "becoming-civilization",
      "metadata": {
        "id": "becoming-civilization"
      },
      "source": [
        "(This is sometimes called a partial function)."
      ]
    },
    {
      "cell_type": "markdown",
      "id": "solar-watson",
      "metadata": {
        "id": "solar-watson"
      },
      "source": [
        "For example, we may have some functions such as:"
      ]
    },
    {
      "cell_type": "code",
      "execution_count": null,
      "id": "divine-brand",
      "metadata": {
        "id": "divine-brand"
      },
      "outputs": [],
      "source": [
        "import math"
      ]
    },
    {
      "cell_type": "code",
      "execution_count": null,
      "id": "saving-hazard",
      "metadata": {
        "id": "saving-hazard"
      },
      "outputs": [],
      "source": [
        "def power(x, n):\n",
        "    return x ** n"
      ]
    },
    {
      "cell_type": "code",
      "execution_count": null,
      "id": "requested-mathematics",
      "metadata": {
        "id": "requested-mathematics"
      },
      "outputs": [],
      "source": [
        "def dist(pt1, pt2):\n",
        "    return math.sqrt(sum(coord_1 - coord_2 for coord_1, coord_2 in zip(pt1, pt2)))"
      ]
    },
    {
      "cell_type": "markdown",
      "id": "hungry-aberdeen",
      "metadata": {
        "id": "hungry-aberdeen"
      },
      "source": [
        "Or even functions already defined, such as:\n",
        "\n",
        "```\n",
        "math.gcd(a, b)\n",
        "```\n",
        "or\n",
        "```\n",
        "math.log(x, base)\n",
        "```"
      ]
    },
    {
      "cell_type": "markdown",
      "id": "entitled-denver",
      "metadata": {
        "id": "entitled-denver"
      },
      "source": [
        "We want to to be able to generate new functions, based on these ones (`power`, `dist`, `gcd`, `log`) but with all the values except the first one prefilled, for example, assuming our function is named `partial`, we can use it to define new functions this way:"
      ]
    },
    {
      "cell_type": "markdown",
      "id": "first-velvet",
      "metadata": {
        "id": "first-velvet"
      },
      "source": [
        "```\n",
        "squares = partial(power, 2)\n",
        "dist_from_origin = partial(dist, (0, 0))\n",
        "gcd_13 = partial(math.gcd, 13)\n",
        "log_2 = partial(math.log, 2)\n",
        "log_10 = partial(math.log, 10)\n",
        "log_16 = partial(math.log, 16)\n",
        "```"
      ]
    },
    {
      "cell_type": "markdown",
      "id": "gentle-monitor",
      "metadata": {
        "id": "gentle-monitor"
      },
      "source": [
        "Then when we call our new functions, we just pass in the value for the first argument, i.e."
      ]
    },
    {
      "cell_type": "markdown",
      "id": "bridal-scenario",
      "metadata": {
        "id": "bridal-scenario"
      },
      "source": [
        "```\n",
        "squares(3) --> 9\n",
        "squares(4) --> 16\n",
        "dist_from_origin((1, 1)) --> 1.414\n",
        "log_2(10) --> 3.3219\n",
        "log_10(10) --> 1.0\n",
        "log_16(10) --> 0.8304\n",
        "```"
      ]
    },
    {
      "cell_type": "markdown",
      "id": "cleared-watson",
      "metadata": {
        "id": "cleared-watson"
      },
      "source": [
        "#### Question 4"
      ]
    },
    {
      "cell_type": "markdown",
      "id": "registered-moscow",
      "metadata": {
        "id": "registered-moscow"
      },
      "source": [
        "Write a function that can be used to not only execute another function with specified arguments, but print a \"log\" (basically just print to the console\", of how long it took to execute the function."
      ]
    },
    {
      "cell_type": "markdown",
      "id": "invisible-elephant",
      "metadata": {
        "id": "invisible-elephant"
      },
      "source": [
        "For example, given some functions like this:"
      ]
    },
    {
      "cell_type": "code",
      "execution_count": null,
      "id": "prerequisite-allergy",
      "metadata": {
        "id": "prerequisite-allergy"
      },
      "outputs": [],
      "source": [
        "def norm(x, y):\n",
        "    return math.sqrt(x**2 + y**2)\n",
        "\n",
        "def find_index_min(seq):\n",
        "    min_ = min(seq)\n",
        "    return seq.index(min_)"
      ]
    },
    {
      "cell_type": "markdown",
      "id": "heavy-police",
      "metadata": {
        "id": "heavy-police"
      },
      "source": [
        "Then assuming your logging function is called `logged`, you could create logged functions this way:"
      ]
    },
    {
      "cell_type": "code",
      "execution_count": null,
      "id": "liquid-divide",
      "metadata": {
        "id": "liquid-divide"
      },
      "outputs": [],
      "source": [
        "def logged(f):\n",
        "    # implement this\n",
        "    pass"
      ]
    },
    {
      "cell_type": "code",
      "execution_count": null,
      "id": "measured-packaging",
      "metadata": {
        "id": "measured-packaging"
      },
      "outputs": [],
      "source": [
        "norm_logged = logged(norm)\n",
        "find_index_min_logged = logged(find_index_min)"
      ]
    },
    {
      "cell_type": "markdown",
      "id": "czech-husband",
      "metadata": {
        "id": "czech-husband"
      },
      "source": [
        "You would then be able to call `norm_logged` with some arguments, or `find_index_min_logged` with some arguments, and not only get the actual result back, but also see an output to the console that tells you how long the function took to run."
      ]
    }
  ],
  "metadata": {
    "kernelspec": {
      "display_name": "Python 3",
      "language": "python",
      "name": "python3"
    },
    "language_info": {
      "codemirror_mode": {
        "name": "ipython",
        "version": 3
      },
      "file_extension": ".py",
      "mimetype": "text/x-python",
      "name": "python",
      "nbconvert_exporter": "python",
      "pygments_lexer": "ipython3",
      "version": "3.9.1"
    },
    "colab": {
      "provenance": [],
      "include_colab_link": true
    }
  },
  "nbformat": 4,
  "nbformat_minor": 5
}