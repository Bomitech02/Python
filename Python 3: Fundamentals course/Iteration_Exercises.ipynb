{
  "cells": [
    {
      "cell_type": "markdown",
      "metadata": {
        "id": "view-in-github",
        "colab_type": "text"
      },
      "source": [
        "<a href=\"https://colab.research.google.com/github/Bomitech02/Python/blob/main/Python%203%3A%20Fundamentals%20course/Iteration_Exercises.ipynb\" target=\"_parent\"><img src=\"https://colab.research.google.com/assets/colab-badge.svg\" alt=\"Open In Colab\"/></a>"
      ]
    },
    {
      "cell_type": "markdown",
      "id": "canadian-manchester",
      "metadata": {
        "id": "canadian-manchester"
      },
      "source": [
        "### Solutions"
      ]
    },
    {
      "cell_type": "markdown",
      "id": "generic-ottawa",
      "metadata": {
        "id": "generic-ottawa"
      },
      "source": [
        "#### Question 1"
      ]
    },
    {
      "cell_type": "markdown",
      "id": "mexican-fairy",
      "metadata": {
        "id": "mexican-fairy"
      },
      "source": [
        "Write some code that generates an `m` x `n` multiplication table.\n",
        "\n",
        "For example if `m=3` and `n=4` your output should look something like:\n",
        "\n",
        "```\n",
        "1 x 1 = 1\n",
        "1 x 2 = 2\n",
        "1 x 3 = 3\n",
        "1 x 4 = 4\n",
        "---------------\n",
        "2 x 1 = 2\n",
        "2 x 2 = 4\n",
        "2 x 3 = 6\n",
        "2 x 4 = 8\n",
        "---------------\n",
        "3 x 1 = 3\n",
        "3 x 2 = 6\n",
        "3 x 3 = 9\n",
        "3 x 4 = 12\n",
        "---------------\n",
        "```"
      ]
    },
    {
      "cell_type": "code",
      "source": [
        "for m in range(1,4):\n",
        "  for n in range(1,5):\n",
        "      print(f'{m} * {n} = {m*n}')\n",
        "  print('-'*10)\n"
      ],
      "metadata": {
        "colab": {
          "base_uri": "https://localhost:8080/"
        },
        "id": "SDl2TiWmwBjf",
        "outputId": "f411b926-b850-42e5-9395-630e0bcb5b84"
      },
      "id": "SDl2TiWmwBjf",
      "execution_count": null,
      "outputs": [
        {
          "output_type": "stream",
          "name": "stdout",
          "text": [
            "1 * 1 = 1\n",
            "1 * 2 = 2\n",
            "1 * 3 = 3\n",
            "1 * 4 = 4\n",
            "----------\n",
            "2 * 1 = 2\n",
            "2 * 2 = 4\n",
            "2 * 3 = 6\n",
            "2 * 4 = 8\n",
            "----------\n",
            "3 * 1 = 3\n",
            "3 * 2 = 6\n",
            "3 * 3 = 9\n",
            "3 * 4 = 12\n",
            "----------\n"
          ]
        }
      ]
    },
    {
      "cell_type": "markdown",
      "source": [
        "**Alternatively, below can be used**"
      ],
      "metadata": {
        "id": "EGY0EgqDxpL6"
      },
      "id": "EGY0EgqDxpL6"
    },
    {
      "cell_type": "code",
      "source": [
        "for m in range(1,4):\n",
        "  for n in range(1,5):\n",
        "    total = m*n\n",
        "    print(f'{m} * {n} = {total}')\n",
        "  print('-' * 10)"
      ],
      "metadata": {
        "colab": {
          "base_uri": "https://localhost:8080/"
        },
        "id": "rV-0BoQFxKQT",
        "outputId": "e86ee26d-cda1-46c3-a16b-b99d1334593f"
      },
      "id": "rV-0BoQFxKQT",
      "execution_count": null,
      "outputs": [
        {
          "output_type": "stream",
          "name": "stdout",
          "text": [
            "1 * 1 = 1\n",
            "1 * 2 = 2\n",
            "1 * 3 = 3\n",
            "1 * 4 = 4\n",
            "----------\n",
            "2 * 1 = 2\n",
            "2 * 2 = 4\n",
            "2 * 3 = 6\n",
            "2 * 4 = 8\n",
            "----------\n",
            "3 * 1 = 3\n",
            "3 * 2 = 6\n",
            "3 * 3 = 9\n",
            "3 * 4 = 12\n",
            "----------\n"
          ]
        }
      ]
    },
    {
      "cell_type": "markdown",
      "id": "unlikely-awareness",
      "metadata": {
        "id": "unlikely-awareness"
      },
      "source": [
        "Your code should be generic enough that it can handle any positive integer values of `m` and `n`."
      ]
    },
    {
      "cell_type": "markdown",
      "id": "automotive-establishment",
      "metadata": {
        "id": "automotive-establishment"
      },
      "source": [
        "#### Question 2"
      ]
    },
    {
      "cell_type": "markdown",
      "id": "resident-plain",
      "metadata": {
        "id": "resident-plain"
      },
      "source": [
        "Your are given the following tuple of lists:"
      ]
    },
    {
      "cell_type": "code",
      "execution_count": null,
      "id": "oriental-turtle",
      "metadata": {
        "colab": {
          "base_uri": "https://localhost:8080/"
        },
        "id": "oriental-turtle",
        "outputId": "43595fb2-bb33-4b0f-bd7f-c738f30f008b"
      },
      "outputs": [
        {
          "output_type": "stream",
          "name": "stdout",
          "text": [
            "(['2021-01-01', 10, 20, 10], ['2021-01-02', 20, 18, 2], ['2021-01-03', -10, 10, 20], ['2021-01-04', 100, 102, 2], ['2021-01-05', 20, 45, 25])\n",
            "2021-01-05 , 25\n"
          ]
        }
      ],
      "source": [
        "data = (\n",
        "    ['2021-01-01', 10, 20],\n",
        "    ['2021-01-02', 20, 18],\n",
        "    ['2021-01-03', -10, 10],\n",
        "    ['2021-01-04', 100, 102],\n",
        "    ['2021-01-05', 20, 45]\n",
        ")\n",
        "highest_abs_value = 0\n",
        "#below iterate through the list in turple and calculate the abs difference between the last and second to the last element\n",
        "for i in range(len(data)):\n",
        "  list_count = len(data[i])\n",
        "  abs_diff = abs(data[i][list_count - 2] - data[i][list_count - 1])\n",
        "  data[i].append(abs_diff) #Appends the result of each iteration to the list\n",
        "  \n",
        "# Below assigns the abs value calc above to the highest_abs_value if greater than the highes_abs_value and then return the date(i.e data in the 0 index)\n",
        "  if abs_diff > highest_abs_value:\n",
        "    highest_abs_value = abs_diff\n",
        "    max_date = data[i][0]\n",
        "\n",
        "print(data)\n",
        "print(max_date, ',', highest_abs_value)\n",
        "\n"
      ]
    },
    {
      "cell_type": "code",
      "source": [],
      "metadata": {
        "id": "XotviY7WW3O_",
        "outputId": "d054d774-bbd3-42bb-de91-f96ab051f00e",
        "colab": {
          "base_uri": "https://localhost:8080/"
        }
      },
      "id": "XotviY7WW3O_",
      "execution_count": null,
      "outputs": [
        {
          "output_type": "stream",
          "name": "stdout",
          "text": [
            "Object `string` not found.\n"
          ]
        }
      ]
    },
    {
      "cell_type": "markdown",
      "id": "ordered-jonathan",
      "metadata": {
        "id": "ordered-jonathan"
      },
      "source": [
        "Your program should:\n",
        "1. Mutate the lists in `data` to add one more element indicating the distance between the two integer numbers (i.e. the absolute value fo the difference)\n",
        "2. Determine on which date this newly calculate value was the largest.\n",
        "3. Be able to work for a `data` set containing any number of lists."
      ]
    },
    {
      "cell_type": "markdown",
      "id": "activated-pixel",
      "metadata": {
        "id": "activated-pixel"
      },
      "source": [
        "#### Question 3"
      ]
    },
    {
      "cell_type": "markdown",
      "id": "aquatic-sewing",
      "metadata": {
        "id": "aquatic-sewing"
      },
      "source": [
        "You are given a list of lists containing two numbers that will need to be color coded later based on a trend determined by the following rules:\n",
        "1. If the first number of a row is higher than the second number of the previous row, append the string `up` to the row\n",
        "2. If the first number of a row is lower than the second number of the previous row, append the string `down` to the row\n",
        "3. Otherwise, append `same` to the row.\n",
        "\n",
        "Obviously you cannot apply these rules to the first row (there is no preceding row), so append an empty string for the first row.\n",
        "\n",
        "Basically think of this as a list of Open/Close values, and we want to assign the values `same`, `up`, or `down` based on how a row's Open value compares to the Close of the *previous* row."
      ]
    },
    {
      "cell_type": "markdown",
      "id": "reliable-cleveland",
      "metadata": {
        "id": "reliable-cleveland"
      },
      "source": [
        "For example, given the following list:"
      ]
    },
    {
      "cell_type": "code",
      "execution_count": null,
      "id": "still-bridges",
      "metadata": {
        "colab": {
          "base_uri": "https://localhost:8080/"
        },
        "id": "still-bridges",
        "outputId": "cf27b761-a2da-457a-8935-eafead9d6b28"
      },
      "outputs": [
        {
          "output_type": "stream",
          "name": "stdout",
          "text": [
            "1\n",
            "2\n",
            "3\n"
          ]
        },
        {
          "output_type": "execute_result",
          "data": {
            "text/plain": [
              "[[10, 20, ''], [20, 30, 'same'], [35, 50, 'up'], [45, 60, 'down']]"
            ]
          },
          "metadata": {},
          "execution_count": 77
        }
      ],
      "source": [
        "data = [\n",
        "    [10, 20],\n",
        "    [20, 30],\n",
        "    [35, 50],\n",
        "    [45, 60]\n",
        "]\n",
        "\n",
        "initial = 0\n",
        "for i in range(len(data)):\n",
        "  if i == 0:\n",
        "    data[i].append('')\n",
        "    continue\n",
        "\n",
        "  if data[i][0] > data[initial][1]:\n",
        "    data[i].append('up')\n",
        "\n",
        "  elif data[i][0] < data[initial][1]:\n",
        "    data[i].append('down')\n",
        "  \n",
        "  else:\n",
        "    data[i].append('same')\n",
        "  \n",
        "  initial += 1\n",
        "  \n",
        "  print(initial)\n",
        "data"
      ]
    },
    {
      "cell_type": "markdown",
      "id": "activated-phase",
      "metadata": {
        "id": "activated-phase"
      },
      "source": [
        "Then after your code finishes running, your `data` should look like this:\n",
        "\n",
        "```\n",
        "[\n",
        "    [10, 20, ''],\n",
        "    [20, 30, 'same'],\n",
        "    [35, 50, 'up'],\n",
        "    [45, 60, 'down']\n",
        "]\n",
        "```"
      ]
    }
  ],
  "metadata": {
    "kernelspec": {
      "display_name": "Python 3",
      "language": "python",
      "name": "python3"
    },
    "language_info": {
      "codemirror_mode": {
        "name": "ipython",
        "version": 3
      },
      "file_extension": ".py",
      "mimetype": "text/x-python",
      "name": "python",
      "nbconvert_exporter": "python",
      "pygments_lexer": "ipython3",
      "version": "3.9.1"
    },
    "colab": {
      "provenance": [],
      "include_colab_link": true
    }
  },
  "nbformat": 4,
  "nbformat_minor": 5
}