{
  "cells": [
    {
      "cell_type": "markdown",
      "metadata": {
        "id": "view-in-github",
        "colab_type": "text"
      },
      "source": [
        "<a href=\"https://colab.research.google.com/github/Bomitech02/Python/blob/main/Python%203%3A%20Fundamentals%20course/Sort_filtering_Exercises.ipynb\" target=\"_parent\"><img src=\"https://colab.research.google.com/assets/colab-badge.svg\" alt=\"Open In Colab\"/></a>"
      ]
    },
    {
      "cell_type": "markdown",
      "id": "shared-intranet",
      "metadata": {
        "id": "shared-intranet"
      },
      "source": [
        "### Exercises"
      ]
    },
    {
      "cell_type": "markdown",
      "id": "persistent-wrapping",
      "metadata": {
        "id": "persistent-wrapping"
      },
      "source": [
        "#### Question 1"
      ]
    },
    {
      "cell_type": "markdown",
      "id": "coupled-fraction",
      "metadata": {
        "id": "coupled-fraction"
      },
      "source": [
        "Given a list of tuples containing two numerical values, write a function that returns a list of the same tuples, sorted by the absolute value of the difference between the two numbers, in descending order."
      ]
    },
    {
      "cell_type": "markdown",
      "id": "human-beatles",
      "metadata": {
        "id": "human-beatles"
      },
      "source": [
        "For example, if the input is:"
      ]
    },
    {
      "cell_type": "code",
      "execution_count": 291,
      "id": "promotional-conference",
      "metadata": {
        "id": "promotional-conference",
        "colab": {
          "base_uri": "https://localhost:8080/"
        },
        "outputId": "6aad9c07-9da7-4cfb-e229-6b23963604db"
      },
      "outputs": [
        {
          "output_type": "execute_result",
          "data": {
            "text/plain": [
              "[(10, -10), (-2, 2), (-4, -5.5), (1, 2)]"
            ]
          },
          "metadata": {},
          "execution_count": 291
        }
      ],
      "source": [
        "l = [\n",
        "    (1, 2),\n",
        "    (-4, -5.5),\n",
        "    (10, -10),\n",
        "    (-2, 2)\n",
        "]\n",
        "\n",
        "def sort_by_abs(data):\n",
        "  sorted_val = sorted(data, key = lambda x: abs(x[1] - x[0]), reverse = True)\n",
        "  return sorted_val\n",
        "\n",
        "sort_by_abs(l)\n"
      ]
    },
    {
      "cell_type": "markdown",
      "id": "beginning-verification",
      "metadata": {
        "id": "beginning-verification"
      },
      "source": [
        "Then the return value of the function should be:\n",
        "\n",
        "```\n",
        "[\n",
        "  (10, -10)\n",
        "  (-2, 2),\n",
        "  (-4, -5.5),\n",
        "  (1, 2)\n",
        "]\n",
        "```"
      ]
    },
    {
      "cell_type": "markdown",
      "id": "enormous-fabric",
      "metadata": {
        "id": "enormous-fabric"
      },
      "source": [
        "#### Question 2"
      ]
    },
    {
      "cell_type": "markdown",
      "id": "distinguished-flood",
      "metadata": {
        "id": "distinguished-flood"
      },
      "source": [
        "Given the following data:"
      ]
    },
    {
      "cell_type": "code",
      "execution_count": 292,
      "id": "specified-matrix",
      "metadata": {
        "id": "specified-matrix"
      },
      "outputs": [],
      "source": [
        "suits = 'shdc'  # Spades, Hearts, Diamonds, Clubs\n",
        "ranks = list('23456789') + ['10', 'J', 'Q', 'K', 'A']"
      ]
    },
    {
      "cell_type": "markdown",
      "id": "naval-hometown",
      "metadata": {
        "id": "naval-hometown"
      },
      "source": [
        "Write a function that given those two inputs, returns a list with all 52 cards, i.e.\n",
        "\n",
        "```\n",
        "[\n",
        "  ['2s', '3s', ..., 'Ks', 'As'],\n",
        "  ['2h', '3h', ..., 'Kh', 'Ah'],\n",
        "  ...\n",
        "]\n",
        "```"
      ]
    },
    {
      "cell_type": "code",
      "source": [
        "#Code to be completed later\n",
        "#\n",
        "#\n",
        "#\n",
        "#\n",
        "cards = []\n",
        "count = 0\n",
        "for c in suits:\n",
        "  cards.append([])\n",
        "  for j in ranks:\n",
        "    cards[count].append(j+c)\n",
        "  count+=1\n",
        "\n",
        "print(cards)\n",
        "print(len(cards[0]))\n",
        "\n"
      ],
      "metadata": {
        "colab": {
          "base_uri": "https://localhost:8080/"
        },
        "id": "EuhkyhYKg18g",
        "outputId": "c3b94cd7-b51a-4b87-9de8-0930e9851614"
      },
      "id": "EuhkyhYKg18g",
      "execution_count": 303,
      "outputs": [
        {
          "output_type": "stream",
          "name": "stdout",
          "text": [
            "[['2s', '3s', '4s', '5s', '6s', '7s', '8s', '9s', '10s', 'Js', 'Qs', 'Ks', 'As'], ['2h', '3h', '4h', '5h', '6h', '7h', '8h', '9h', '10h', 'Jh', 'Qh', 'Kh', 'Ah'], ['2d', '3d', '4d', '5d', '6d', '7d', '8d', '9d', '10d', 'Jd', 'Qd', 'Kd', 'Ad'], ['2c', '3c', '4c', '5c', '6c', '7c', '8c', '9c', '10c', 'Jc', 'Qc', 'Kc', 'Ac']]\n",
            "13\n"
          ]
        }
      ]
    },
    {
      "cell_type": "markdown",
      "id": "informed-visit",
      "metadata": {
        "id": "informed-visit"
      },
      "source": [
        "Then, enhance this function so that an optional argument can be used to specify whether the cards in each suit should be sorted in ascending or descending rank order (assume `A` has the highest rank in its suit)."
      ]
    },
    {
      "cell_type": "markdown",
      "id": "connected-studio",
      "metadata": {
        "id": "connected-studio"
      },
      "source": [
        "#### Question 3"
      ]
    },
    {
      "cell_type": "markdown",
      "id": "prostate-directory",
      "metadata": {
        "id": "prostate-directory"
      },
      "source": [
        "Suppose we are given some data consisting of symbols (the keys in the dictionary) and values being a tuple containing Open/High/Low/Close values for that symbol.\n",
        "\n",
        "For example:"
      ]
    },
    {
      "cell_type": "code",
      "execution_count": 294,
      "id": "transsexual-novel",
      "metadata": {
        "id": "transsexual-novel",
        "colab": {
          "base_uri": "https://localhost:8080/"
        },
        "outputId": "a74069b0-ef07-4ff9-c21a-4515e258e523"
      },
      "outputs": [
        {
          "output_type": "execute_result",
          "data": {
            "text/plain": [
              "80"
            ]
          },
          "metadata": {},
          "execution_count": 294
        }
      ],
      "source": [
        "data = {\n",
        "    'S1': (100, 200, 80, 180),\n",
        "    'S2': (10, 20, 8, 18),\n",
        "    'S3': (50, 150, 50, 150)\n",
        "}\n",
        "\n",
        "# creating a method to calc the \n",
        "min(data['S1'])\n"
      ]
    },
    {
      "cell_type": "code",
      "source": [
        "def try_(data):\n",
        "  for i in data:\n",
        "    diff = max(data[i])\n",
        "    return diff\n",
        "\n",
        "try_(data)\n",
        "\n",
        "#From the solution provided\n",
        "def find_extreme(d, *, is_min=True):\n",
        "    mult = 1 if is_min else -1\n",
        "    return min(d, key=lambda key: mult * (d[key][1] - d[key][2]))\n",
        "\n",
        "find_extreme(data), find_extreme(data, is_min=False)"
      ],
      "metadata": {
        "colab": {
          "base_uri": "https://localhost:8080/"
        },
        "id": "48SSA-K_g-8V",
        "outputId": "82edb611-0ed5-437c-f2d5-545ecc3c6a66"
      },
      "id": "48SSA-K_g-8V",
      "execution_count": 295,
      "outputs": [
        {
          "output_type": "execute_result",
          "data": {
            "text/plain": [
              "('S2', 'S1')"
            ]
          },
          "metadata": {},
          "execution_count": 295
        }
      ]
    },
    {
      "cell_type": "markdown",
      "id": "broadband-holocaust",
      "metadata": {
        "id": "broadband-holocaust"
      },
      "source": [
        "Write a function that given this data as input, returns the symbol whose `high - low` is smallest."
      ]
    },
    {
      "cell_type": "markdown",
      "id": "clinical-mentor",
      "metadata": {
        "id": "clinical-mentor"
      },
      "source": [
        "Expand on your function so that it will either return the symbol with smallest or largest high/low difference, based on an extra argument passed to the function."
      ]
    },
    {
      "cell_type": "markdown",
      "id": "animal-preliminary",
      "metadata": {
        "id": "animal-preliminary"
      },
      "source": [
        "#### Question 4"
      ]
    },
    {
      "cell_type": "markdown",
      "id": "governmental-february",
      "metadata": {
        "id": "governmental-february"
      },
      "source": [
        "Given data that might look like this:"
      ]
    },
    {
      "cell_type": "code",
      "execution_count": 296,
      "id": "liable-deviation",
      "metadata": {
        "id": "liable-deviation"
      },
      "outputs": [],
      "source": [
        "quotes = [\n",
        "    ('AACC', 6.05, 6.07, 6.03, 6.05, 65800),\n",
        "    ('AAME', 1.7, 1.82, 1.7, 1.82, 4300),\n",
        "    ('AAON', 24.98, 25.07, 24.9, 24.94, 28200),\n",
        "    ('AAPL', 317.99, 319.57, 316.75, 317.13, 12901800),\n",
        "    ('AATI', 3.82, 3.82, 3.74, 3.79, 194600),\n",
        "    ('AAWW', 60.89, 61.44, 60.5, 61.19, 272800),\n",
        "    ('AAXJ', 65.4, 65.71, 65.28, 65.56, 390300),\n",
        "    ('ABAT', 4.01, 4.01, 3.95, 3.99, 656300),\n",
        "    ('ABAX', 25.26, 25.49, 25.04, 25.42, 73700),\n",
        "    ('ABBC', 11.75, 11.88, 11.48, 11.53, 29700),\n",
        "    ('ABCB', 9.3, 9.3, 9.06, 9.14, 42600),\n",
        "    ('ABCD', 3.25, 3.25, 3.11, 3.22, 122800),\n",
        "    ('ABCO', 48.75, 50.41, 46.9, 50.37, 66300),\n",
        "    ('ABCW', 0.52, 0.61, 0.52, 0.53, 83000),\n",
        "    ('ABFS', 25.98, 26.27, 25.41, 25.5, 384900),\n",
        "    ('ABIO', 3.96, 4, 3.88, 4, 38500),\n",
        "    ('ABMD', 11.94, 12, 11.69, 11.87, 122600),\n",
        "    ('ABTL', 0.82, 0.84, 0.82, 0.83, 28700),\n",
        "    ('ABVA', 3.09, 3.25, 3.09, 3.25, 6200),\n",
        "    ('ACAD', 0.76, 0.76, 0.7, 0.74, 341500),\n",
        "    ('ACAS', 7.52, 7.72, 7.52, 7.66, 5199800),\n",
        "    ('ACAT', 14.44, 14.44, 14.04, 14.2, 51700),\n",
        "    ('ACCL', 8.11, 8.21, 7.94, 8.1, 456100),\n",
        "    ('ACET', 8.01, 8.04, 7.13, 7.73, 575600),\n",
        "    ('ACFC', 1.69, 1.7, 1.5, 1.6, 12300),\n",
        "    ('ACFN', 3.82, 4, 3.82, 3.98, 53700),\n",
        "    ('ACGL', 89.76, 90.14, 89.39, 89.92, 240900),\n",
        "    ('ACGY', 22.41, 22.56, 22.25, 22.46, 86800),\n",
        "    ('ACHN', 3.12, 3.2, 3.07, 3.16, 113700),\n",
        "    ('ACIW', 26.96, 27.03, 26.63, 26.8, 157000),\n",
        "    ('ACLI', 33.65, 33.77, 33.45, 33.63, 28700),\n",
        "    ('ACLS', 2.47, 2.63, 2.46, 2.53, 1818800),\n",
        "    ('ACMR', 2.69, 2.84, 2.37, 2.71, 158600),\n",
        "    ('ACOM', 25.2, 26.6, 24.9, 26.56, 265300),\n",
        "    ('ACOR', 26.67, 27.07, 26.38, 27.04, 1415000),\n",
        "    ('ACPW', 1.84, 1.89, 1.77, 1.85, 565500),\n",
        "    ('ACTG', 27.2, 27.43, 26.86, 27.18, 228800),\n",
        "    ('ACTI', 3.25, 3.26, 3.25, 3.26, 148500),\n",
        "    ('ACTS', 2.08, 2.09, 2.07, 2.07, 130500),\n",
        "    ('ACUR', 2.6, 2.64, 2.51, 2.6, 16000),\n",
        "    ('ACWI', 46.53, 46.7, 46.32, 46.51, 286200),\n",
        "    ('ACWX', 44.49, 44.66, 44.36, 44.6, 55500),\n",
        "    ('ACXM', 18, 18.07, 17.81, 18.01, 289800),\n",
        "    ('ADAM', 7.34, 7.49, 7.33, 7.44, 81700),\n",
        "    ('ADAT', 0.6, 0.68, 0.59, 0.66, 86400),\n",
        "    ('ADBE', 29.43, 29.71, 29.07, 29.14, 7585300),\n",
        "    ('ADCT', 12.68, 12.69, 12.66, 12.68, 1660500),\n",
        "    ('ADEP', 6.14, 6.14, 4.95, 5.61, 71000),\n",
        "    ('ADES', 6.2, 6.22, 6, 6.19, 4800),\n",
        "    ('ADGF', 4.31, 4.55, 4.31, 4.54, 10200)\n",
        "]"
      ]
    },
    {
      "cell_type": "markdown",
      "id": "vital-storage",
      "metadata": {
        "id": "vital-storage"
      },
      "source": [
        "where each tuple consists of the following data: \n",
        "```\n",
        "(symbol, open, high, low, close, volume)\n",
        "```"
      ]
    },
    {
      "cell_type": "code",
      "source": [
        "result = filter(lambda x: (x[2] - x[4])/x[4] > 0.1, quotes)\n",
        "print(list(result))\n",
        "\n",
        "print('\\nResult modification so that function can be called using any %\\n')\n",
        "\n",
        "def greater_than(perc):\n",
        "  result = filter(lambda x: (x[2] - x[4])/x[4] > perc/100, quotes)\n",
        "  return result\n",
        "\n",
        "perc_5 = greater_than(5)\n",
        "list(perc_5)"
      ],
      "metadata": {
        "colab": {
          "base_uri": "https://localhost:8080/"
        },
        "id": "Jim4FBfqvzWl",
        "outputId": "bb8a055d-1829-4389-df8d-31714b9c2ead"
      },
      "id": "Jim4FBfqvzWl",
      "execution_count": 297,
      "outputs": [
        {
          "output_type": "stream",
          "name": "stdout",
          "text": [
            "[('ABCW', 0.52, 0.61, 0.52, 0.53, 83000)]\n",
            "\n",
            "Result modification so that function can be called using any %\n",
            "\n"
          ]
        },
        {
          "output_type": "execute_result",
          "data": {
            "text/plain": [
              "[('ABCW', 0.52, 0.61, 0.52, 0.53, 83000),\n",
              " ('ACFC', 1.69, 1.7, 1.5, 1.6, 12300),\n",
              " ('ADEP', 6.14, 6.14, 4.95, 5.61, 71000)]"
            ]
          },
          "metadata": {},
          "execution_count": 297
        }
      ]
    },
    {
      "cell_type": "markdown",
      "id": "developmental-shelter",
      "metadata": {
        "id": "developmental-shelter"
      },
      "source": [
        "Use the `filter` function to generate a list of rows where the `close` value is more than `10%` away from the `high` value."
      ]
    },
    {
      "cell_type": "markdown",
      "id": "balanced-malta",
      "metadata": {
        "id": "balanced-malta"
      },
      "source": [
        "Once you have done this succesfully, modify your code so that we can use any value for the percentage instead of this fixed 10%."
      ]
    },
    {
      "cell_type": "markdown",
      "id": "heated-advocacy",
      "metadata": {
        "id": "heated-advocacy"
      },
      "source": [
        "#### Question 5"
      ]
    },
    {
      "cell_type": "markdown",
      "id": "improved-class",
      "metadata": {
        "id": "improved-class"
      },
      "source": [
        "Given an arbitrary list of numbers, write an expression that returns the smallest value in the list based on the absolute values of ech number."
      ]
    },
    {
      "cell_type": "markdown",
      "id": "varied-mercury",
      "metadata": {
        "id": "varied-mercury"
      },
      "source": [
        "For example, given the list:"
      ]
    },
    {
      "cell_type": "code",
      "execution_count": 298,
      "id": "similar-kelly",
      "metadata": {
        "id": "similar-kelly",
        "colab": {
          "base_uri": "https://localhost:8080/"
        },
        "outputId": "4f7afa74-cd4c-4c1e-e5d1-11c2fa61cedb"
      },
      "outputs": [
        {
          "output_type": "execute_result",
          "data": {
            "text/plain": [
              "-4"
            ]
          },
          "metadata": {},
          "execution_count": 298
        }
      ],
      "source": [
        "l = [5, 6, -4, 8]\n",
        "\n",
        "def min_abs_val(x):\n",
        "  return min(x, key = abs)\n",
        "\n",
        "min_abs_val(l)\n"
      ]
    },
    {
      "cell_type": "markdown",
      "source": [
        "Other practice codes"
      ],
      "metadata": {
        "id": "HOLgkBTf4eD6"
      },
      "id": "HOLgkBTf4eD6"
    },
    {
      "cell_type": "code",
      "source": [
        "data = list(range(1, 11))\n",
        "\n",
        "def is_even(x):\n",
        "  return x % 2 == 0\n",
        "\n",
        "even = filter(is_even, data)\n",
        "print(list(even))\n",
        "\n",
        "even = [item for item in data if is_even(item)]\n",
        "print(list(even))\n",
        "\n",
        "even = (i for i in data if is_even(i))\n",
        "print(list(even))\n",
        "\n",
        "even = filter((lambda x: x % 2 == 0), data)\n",
        "print(list(even))\n",
        "\n",
        "#Sorted func\n",
        "data = [-10, -6, 0, 3, 6]\n",
        "def key_func(x):\n",
        "  return abs(x)\n",
        "\n",
        "print(sorted(data))\n",
        "\n",
        "\n",
        "a = (key_func(x) for x in data) #Prints theabs value of data\n",
        "print(list(a))\n",
        " \n",
        "sort = sorted(data, key = key_func) # sorting on the basis of absolute value\n",
        "print(sort)\n",
        "\n",
        "sort = sorted(data, key = abs) #Defining a function for abs is redundant as abs is a function in py.\n",
        "print(sort)\n"
      ],
      "metadata": {
        "id": "FP2DjiWkwtGv",
        "colab": {
          "base_uri": "https://localhost:8080/"
        },
        "outputId": "cf89b766-be71-47b0-eb27-8419e01241dc"
      },
      "id": "FP2DjiWkwtGv",
      "execution_count": 299,
      "outputs": [
        {
          "output_type": "stream",
          "name": "stdout",
          "text": [
            "[2, 4, 6, 8, 10]\n",
            "[2, 4, 6, 8, 10]\n",
            "[2, 4, 6, 8, 10]\n",
            "[2, 4, 6, 8, 10]\n",
            "[-10, -6, 0, 3, 6]\n",
            "[10, 6, 0, 3, 6]\n",
            "[0, 3, -6, 6, -10]\n",
            "[0, 3, -6, 6, -10]\n"
          ]
        }
      ]
    },
    {
      "cell_type": "markdown",
      "id": "great-weekly",
      "metadata": {
        "id": "great-weekly"
      },
      "source": [
        "Your expression should return `-4`."
      ]
    }
  ],
  "metadata": {
    "kernelspec": {
      "display_name": "Python 3",
      "language": "python",
      "name": "python3"
    },
    "language_info": {
      "codemirror_mode": {
        "name": "ipython",
        "version": 3
      },
      "file_extension": ".py",
      "mimetype": "text/x-python",
      "name": "python",
      "nbconvert_exporter": "python",
      "pygments_lexer": "ipython3",
      "version": "3.9.1"
    },
    "colab": {
      "provenance": [],
      "include_colab_link": true
    }
  },
  "nbformat": 4,
  "nbformat_minor": 5
}