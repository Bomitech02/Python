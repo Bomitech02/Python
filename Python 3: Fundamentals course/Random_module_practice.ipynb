{
  "nbformat": 4,
  "nbformat_minor": 0,
  "metadata": {
    "colab": {
      "provenance": [],
      "authorship_tag": "ABX9TyN66Kaj8Y6EnFVnP0sAocNd",
      "include_colab_link": true
    },
    "kernelspec": {
      "name": "python3",
      "display_name": "Python 3"
    },
    "language_info": {
      "name": "python"
    }
  },
  "cells": [
    {
      "cell_type": "markdown",
      "metadata": {
        "id": "view-in-github",
        "colab_type": "text"
      },
      "source": [
        "<a href=\"https://colab.research.google.com/github/Bomitech02/Python/blob/main/Python%203%3A%20Fundamentals%20course/Random_module_practice.ipynb\" target=\"_parent\"><img src=\"https://colab.research.google.com/assets/colab-badge.svg\" alt=\"Open In Colab\"/></a>"
      ]
    },
    {
      "cell_type": "code",
      "execution_count": 137,
      "metadata": {
        "id": "18iC3NSQEaHP"
      },
      "outputs": [],
      "source": [
        "import random\n",
        "random.seed(0)"
      ]
    },
    {
      "cell_type": "code",
      "source": [
        "data_1 = [\n",
        "    (1, 12.3),\n",
        "    (2, 30.7),\n",
        "    (3, 20.5),\n",
        "    (4, 36.5)\n",
        "]\n",
        "\n",
        "data_2 = [\n",
        "    ('a', 12.3),\n",
        "    ('b', 30.7),\n",
        "    ('c', 20.5),\n",
        "    ('d', 36.5)\n",
        "]\n",
        "\n",
        "data_3 = [\n",
        "    ('abc', 12.3),\n",
        "    ('d', 30.7),\n",
        "    ('ef', 20.5),\n",
        "    ('ghi', 36.5)\n",
        "]\n",
        "\n",
        "key_lengths = [len(str(freq[el])) for el in freq]\n",
        "key_lengths\n",
        "\n",
        "def chart_freq(data):\n",
        "  pad = max([len(str(el[0])) for el in data])\n",
        "  for k, v in data:\n",
        "    print(f\"{str(k).rjust(pad)}| {'*' * round(v)}\")\n",
        "\n",
        "chart_freq(data_3)"
      ],
      "metadata": {
        "colab": {
          "base_uri": "https://localhost:8080/"
        },
        "id": "L_MWRedSd1zR",
        "outputId": "68427658-02c3-4b9f-9b4c-53c8802b0f50"
      },
      "execution_count": 138,
      "outputs": [
        {
          "output_type": "stream",
          "name": "stdout",
          "text": [
            "abc| ************\n",
            "  d| *******************************\n",
            " ef| ********************\n",
            "ghi| ************************************\n"
          ]
        }
      ]
    },
    {
      "cell_type": "code",
      "source": [
        "random.seed(0)\n",
        "data = [random.randint(1, 10) for _ in range(5)]\n",
        "\n",
        "freq = {}\n",
        "for el in data:\n",
        "  freq[el] = freq.get(el, 0) + 1\n",
        "\n",
        "freq"
      ],
      "metadata": {
        "colab": {
          "base_uri": "https://localhost:8080/"
        },
        "id": "BRMzgZ7mt3-T",
        "outputId": "b443076c-a6c1-4d75-b96f-3b906ddb9f08"
      },
      "execution_count": 139,
      "outputs": [
        {
          "output_type": "execute_result",
          "data": {
            "text/plain": [
              "{7: 2, 1: 1, 5: 1, 9: 1}"
            ]
          },
          "metadata": {},
          "execution_count": 139
        }
      ]
    },
    {
      "cell_type": "code",
      "source": [
        "#rescale the value for each key to 100\n",
        "new_freq = freq.copy()\n",
        "\n",
        "total_freq = sum(new_freq.values())\n",
        "\n",
        "for val in new_freq:\n",
        "  new_freq[val] = new_freq[val]/total_freq * 100\n",
        "print(new_freq)\n",
        "\n",
        "#Alt way of doing this using dictionary comprehension\n",
        "new_freq = {\n",
        "    k: v / total_freq * 100 for k, v in freq.items()\n",
        "}\n",
        "print(new_freq)"
      ],
      "metadata": {
        "colab": {
          "base_uri": "https://localhost:8080/"
        },
        "id": "FgnwvEi-upmO",
        "outputId": "630711fa-1a00-42cd-f379-7da4ac6f8296"
      },
      "execution_count": 140,
      "outputs": [
        {
          "output_type": "stream",
          "name": "stdout",
          "text": [
            "{7: 40.0, 1: 20.0, 5: 20.0, 9: 20.0}\n",
            "{7: 40.0, 1: 20.0, 5: 20.0, 9: 20.0}\n"
          ]
        }
      ]
    },
    {
      "cell_type": "code",
      "source": [
        "#Creating a function to return a dict for the K,V of the data \n",
        "def freq_distribution(data):\n",
        "  freq = {}\n",
        "  for i in data:\n",
        "    freq[i] = freq.get(i, 0) + 1\n",
        "  return freq\n",
        "\n",
        "#creating a function that returns the values of freq_distribution scaled to 100\n",
        "\n",
        "def relative_distribution(freq_distribution):\n",
        "  total_freq = sum(freq_distribution.values())\n",
        "  return {\n",
        "      k: v / total_freq * 100 for k, v in freq_distribution.items()  \n",
        "  }\n"
      ],
      "metadata": {
        "id": "XzalRXvmzivl"
      },
      "execution_count": 150,
      "outputs": []
    },
    {
      "cell_type": "code",
      "source": [
        "freq = freq_distribution(data)\n",
        "print(freq)"
      ],
      "metadata": {
        "colab": {
          "base_uri": "https://localhost:8080/"
        },
        "id": "5Pok4xa5B3CK",
        "outputId": "60bb9f2f-3371-4120-d972-72cfac0380d1"
      },
      "execution_count": 151,
      "outputs": [
        {
          "output_type": "stream",
          "name": "stdout",
          "text": [
            "{7: 2, 1: 1, 5: 1, 9: 1}\n"
          ]
        }
      ]
    },
    {
      "cell_type": "code",
      "source": [
        "rel = relative_distribution(freq)\n",
        "print(rel)"
      ],
      "metadata": {
        "colab": {
          "base_uri": "https://localhost:8080/"
        },
        "id": "KbMZBfdEB6-X",
        "outputId": "f47bcc0b-b04a-47a1-f968-e7af804880c9"
      },
      "execution_count": 152,
      "outputs": [
        {
          "output_type": "stream",
          "name": "stdout",
          "text": [
            "{7: 40.0, 1: 20.0, 5: 20.0, 9: 20.0}\n"
          ]
        }
      ]
    },
    {
      "cell_type": "code",
      "source": [
        "out_ = chart_freq(rel.items())\n",
        "\n",
        "sorted_items = sorted(rel.items(), key = lambda x: x[0])\n",
        "sorted_items"
      ],
      "metadata": {
        "colab": {
          "base_uri": "https://localhost:8080/"
        },
        "id": "tO30qXREB-v4",
        "outputId": "bf80a04b-cd3e-43bb-fd4c-1431e0eb7251"
      },
      "execution_count": 155,
      "outputs": [
        {
          "output_type": "stream",
          "name": "stdout",
          "text": [
            "7| ****************************************\n",
            "1| ********************\n",
            "5| ********************\n",
            "9| ********************\n"
          ]
        },
        {
          "output_type": "execute_result",
          "data": {
            "text/plain": [
              "[(1, 20.0), (5, 20.0), (7, 40.0), (9, 20.0)]"
            ]
          },
          "metadata": {},
          "execution_count": 155
        }
      ]
    },
    {
      "cell_type": "code",
      "source": [
        "chart_freq(sorted_items)"
      ],
      "metadata": {
        "colab": {
          "base_uri": "https://localhost:8080/"
        },
        "id": "PEeZQW0lCyvr",
        "outputId": "ab277de6-2b6a-4dce-c529-3f0aedfc9c76"
      },
      "execution_count": 156,
      "outputs": [
        {
          "output_type": "stream",
          "name": "stdout",
          "text": [
            "1| ********************\n",
            "5| ********************\n",
            "7| ****************************************\n",
            "9| ********************\n"
          ]
        }
      ]
    },
    {
      "cell_type": "code",
      "source": [
        "#creating a func from previous functions created to analyze random integers\n",
        "def analyze_randint(n, a, b):\n",
        "  data = [random.randint(a, b) for _ in range(n)]\n",
        "  \n",
        "  freq = freq_distribution(data)\n",
        "  rel = relative_distribution(freq)\n",
        "  sorted_items = sorted(rel.items(), key = lambda x: x[0])\n",
        "  chart_freq(sorted_items)\n",
        "\n",
        "random.seed(0)\n",
        "analyze_randint(10, 1, 10)\n"
      ],
      "metadata": {
        "colab": {
          "base_uri": "https://localhost:8080/"
        },
        "id": "e9Rmet_dC7_S",
        "outputId": "d351c641-695b-4fbf-e942-47d0c1dd6738"
      },
      "execution_count": 160,
      "outputs": [
        {
          "output_type": "stream",
          "name": "stdout",
          "text": [
            "1| **********\n",
            "5| ********************\n",
            "6| **********\n",
            "7| ******************************\n",
            "8| ********************\n",
            "9| **********\n"
          ]
        }
      ]
    },
    {
      "cell_type": "code",
      "source": [
        "analyze_randint(10_000, 1, 10)"
      ],
      "metadata": {
        "colab": {
          "base_uri": "https://localhost:8080/"
        },
        "id": "VBVw8I_3EdwQ",
        "outputId": "ec65c905-161e-4e23-e7ac-5d4d3d318110"
      },
      "execution_count": 161,
      "outputs": [
        {
          "output_type": "stream",
          "name": "stdout",
          "text": [
            " 1| **********\n",
            " 2| **********\n",
            " 3| **********\n",
            " 4| **********\n",
            " 5| **********\n",
            " 6| **********\n",
            " 7| **********\n",
            " 8| **********\n",
            " 9| *********\n",
            "10| **********\n"
          ]
        }
      ]
    },
    {
      "cell_type": "code",
      "source": [
        "#creating a func from previous functions created to analyze random integers\n",
        "def analyze_norm(n, mu, sigma):\n",
        "  data = [round(10 *random.gauss(mu, sigma)) for _ in range(n)]\n",
        "  \n",
        "  freq = freq_distribution(data)\n",
        "  rel = relative_distribution(freq)\n",
        "  filtered_items = {\n",
        "      k: v for k, v in rel.items() if round(v) > 0\n",
        "  }\n",
        "  sorted_items = sorted(filtered_items.items(), key = lambda x: x[0])\n",
        "  chart_freq(sorted_items)\n",
        "\n",
        "random.seed(0)\n",
        "analyze_norm(10_0000, 0, 1)"
      ],
      "metadata": {
        "colab": {
          "base_uri": "https://localhost:8080/"
        },
        "id": "QAsPvVbmFlny",
        "outputId": "74f682a8-1246-43e1-c70b-053d6700f76c"
      },
      "execution_count": 170,
      "outputs": [
        {
          "output_type": "stream",
          "name": "stdout",
          "text": [
            "-19| *\n",
            "-18| *\n",
            "-17| *\n",
            "-16| *\n",
            "-15| *\n",
            "-14| **\n",
            "-13| **\n",
            "-12| **\n",
            "-11| **\n",
            "-10| **\n",
            " -9| ***\n",
            " -8| ***\n",
            " -7| ***\n",
            " -6| ***\n",
            " -5| ***\n",
            " -4| ****\n",
            " -3| ****\n",
            " -2| ****\n",
            " -1| ****\n",
            "  0| ****\n",
            "  1| ****\n",
            "  2| ****\n",
            "  3| ****\n",
            "  4| ****\n",
            "  5| ****\n",
            "  6| ***\n",
            "  7| ***\n",
            "  8| ***\n",
            "  9| ***\n",
            " 10| **\n",
            " 11| **\n",
            " 12| **\n",
            " 13| **\n",
            " 14| *\n",
            " 15| *\n",
            " 16| *\n",
            " 17| *\n",
            " 18| *\n",
            " 19| *\n",
            " 20| *\n"
          ]
        }
      ]
    }
  ]
}