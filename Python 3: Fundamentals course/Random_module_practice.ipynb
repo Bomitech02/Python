{
  "nbformat": 4,
  "nbformat_minor": 0,
  "metadata": {
    "colab": {
      "provenance": [],
      "authorship_tag": "ABX9TyPTY8ldzitMX+MdxmEUGwWm",
      "include_colab_link": true
    },
    "kernelspec": {
      "name": "python3",
      "display_name": "Python 3"
    },
    "language_info": {
      "name": "python"
    }
  },
  "cells": [
    {
      "cell_type": "markdown",
      "metadata": {
        "id": "view-in-github",
        "colab_type": "text"
      },
      "source": [
        "<a href=\"https://colab.research.google.com/github/Bomitech02/Python/blob/main/Python%203%3A%20Fundamentals%20course/Random_module_practice.ipynb\" target=\"_parent\"><img src=\"https://colab.research.google.com/assets/colab-badge.svg\" alt=\"Open In Colab\"/></a>"
      ]
    },
    {
      "cell_type": "code",
      "execution_count": 137,
      "metadata": {
        "id": "18iC3NSQEaHP"
      },
      "outputs": [],
      "source": [
        "import random\n",
        "random.seed(0)"
      ]
    },
    {
      "cell_type": "code",
      "source": [
        "data_1 = [\n",
        "    (1, 12.3),\n",
        "    (2, 30.7),\n",
        "    (3, 20.5),\n",
        "    (4, 36.5)\n",
        "]\n",
        "\n",
        "data_2 = [\n",
        "    ('a', 12.3),\n",
        "    ('b', 30.7),\n",
        "    ('c', 20.5),\n",
        "    ('d', 36.5)\n",
        "]\n",
        "\n",
        "data_3 = [\n",
        "    ('abc', 12.3),\n",
        "    ('d', 30.7),\n",
        "    ('ef', 20.5),\n",
        "    ('ghi', 36.5)\n",
        "]\n",
        "\n",
        "key_lengths = [len(str(freq[el])) for el in freq]\n",
        "key_lengths\n",
        "\n",
        "def chart_freq(data):\n",
        "  pad = max([len(str(el[0])) for el in data])\n",
        "  for k, v in data:\n",
        "    print(f\"{str(k).rjust(pad)}| {'*' * round(v)}\")\n",
        "\n",
        "chart_freq(data_3)"
      ],
      "metadata": {
        "colab": {
          "base_uri": "https://localhost:8080/"
        },
        "id": "L_MWRedSd1zR",
        "outputId": "68427658-02c3-4b9f-9b4c-53c8802b0f50"
      },
      "execution_count": 138,
      "outputs": [
        {
          "output_type": "stream",
          "name": "stdout",
          "text": [
            "abc| ************\n",
            "  d| *******************************\n",
            " ef| ********************\n",
            "ghi| ************************************\n"
          ]
        }
      ]
    },
    {
      "cell_type": "code",
      "source": [
        "random.seed(0)\n",
        "data = [random.randint(1, 10) for _ in range(5)]\n",
        "\n",
        "freq = {}\n",
        "for el in data:\n",
        "  freq[el] = freq.get(el, 0) + 1\n",
        "\n",
        "freq"
      ],
      "metadata": {
        "colab": {
          "base_uri": "https://localhost:8080/"
        },
        "id": "BRMzgZ7mt3-T",
        "outputId": "b443076c-a6c1-4d75-b96f-3b906ddb9f08"
      },
      "execution_count": 139,
      "outputs": [
        {
          "output_type": "execute_result",
          "data": {
            "text/plain": [
              "{7: 2, 1: 1, 5: 1, 9: 1}"
            ]
          },
          "metadata": {},
          "execution_count": 139
        }
      ]
    },
    {
      "cell_type": "code",
      "source": [
        "#rescale the value for each key to 100\n",
        "new_freq = freq.copy()\n",
        "\n",
        "total_freq = sum(new_freq.values())\n",
        "\n",
        "for val in new_freq:\n",
        "  new_freq[val] = new_freq[val]/total_freq * 100\n",
        "print(new_freq)\n",
        "\n",
        "#Alt way of doing this using dictionary comprehension\n",
        "new_freq = {\n",
        "    k: v / total_freq * 100 for k, v in freq.items()\n",
        "}\n",
        "print(new_freq)"
      ],
      "metadata": {
        "colab": {
          "base_uri": "https://localhost:8080/"
        },
        "id": "FgnwvEi-upmO",
        "outputId": "630711fa-1a00-42cd-f379-7da4ac6f8296"
      },
      "execution_count": 140,
      "outputs": [
        {
          "output_type": "stream",
          "name": "stdout",
          "text": [
            "{7: 40.0, 1: 20.0, 5: 20.0, 9: 20.0}\n",
            "{7: 40.0, 1: 20.0, 5: 20.0, 9: 20.0}\n"
          ]
        }
      ]
    },
    {
      "cell_type": "code",
      "source": [
        "#Creating a function to return a dict for the K,V of the data \n",
        "def freq_distribution(data):\n",
        "  freq = {}\n",
        "  for i in data:\n",
        "    freq[i] = freq.get(i, 0) + 1\n",
        "  return freq\n",
        "\n",
        "#creating a function that returns the values of freq_distribution scaled to 100\n",
        "\n",
        "def relative_distribution(freq_distribution):\n",
        "  total_freq = sum(freq_distribution.values())\n",
        "  return {\n",
        "      k: v / total_freq * 100 for k, v in freq_distribution.items()  \n",
        "  }\n",
        "\n",
        "freq = freq_distribution(data)\n",
        "print(freq)\n",
        "rel = relative_distribution(freq)\n",
        "print(rel)\n",
        "\n",
        "out_ = chart_freq(rel.items())\n",
        "\n",
        "sorted(out_, key = rel.keys) "
      ],
      "metadata": {
        "colab": {
          "base_uri": "https://localhost:8080/",
          "height": 304
        },
        "id": "XzalRXvmzivl",
        "outputId": "cfc8fe0f-2931-49aa-f341-a96c15e9c14e"
      },
      "execution_count": 149,
      "outputs": [
        {
          "output_type": "stream",
          "name": "stdout",
          "text": [
            "{7: 2, 1: 1, 5: 1, 9: 1}\n",
            "{7: 40.0, 1: 20.0, 5: 20.0, 9: 20.0}\n",
            "7| ****************************************\n",
            "1| ********************\n",
            "5| ********************\n",
            "9| ********************\n"
          ]
        },
        {
          "output_type": "error",
          "ename": "TypeError",
          "evalue": "ignored",
          "traceback": [
            "\u001b[0;31m---------------------------------------------------------------------------\u001b[0m",
            "\u001b[0;31mTypeError\u001b[0m                                 Traceback (most recent call last)",
            "\u001b[0;32m<ipython-input-149-ea89359afd6e>\u001b[0m in \u001b[0;36m<cell line: 23>\u001b[0;34m()\u001b[0m\n\u001b[1;32m     21\u001b[0m \u001b[0mout_\u001b[0m \u001b[0;34m=\u001b[0m \u001b[0mchart_freq\u001b[0m\u001b[0;34m(\u001b[0m\u001b[0mrel\u001b[0m\u001b[0;34m.\u001b[0m\u001b[0mitems\u001b[0m\u001b[0;34m(\u001b[0m\u001b[0;34m)\u001b[0m\u001b[0;34m)\u001b[0m\u001b[0;34m\u001b[0m\u001b[0;34m\u001b[0m\u001b[0m\n\u001b[1;32m     22\u001b[0m \u001b[0;34m\u001b[0m\u001b[0m\n\u001b[0;32m---> 23\u001b[0;31m \u001b[0msorted\u001b[0m\u001b[0;34m(\u001b[0m\u001b[0mout_\u001b[0m\u001b[0;34m,\u001b[0m \u001b[0mkey\u001b[0m \u001b[0;34m=\u001b[0m \u001b[0mrel\u001b[0m\u001b[0;34m.\u001b[0m\u001b[0mkeys\u001b[0m\u001b[0;34m)\u001b[0m\u001b[0;34m\u001b[0m\u001b[0;34m\u001b[0m\u001b[0m\n\u001b[0m",
            "\u001b[0;31mTypeError\u001b[0m: 'NoneType' object is not iterable"
          ]
        }
      ]
    }
  ]
}