{
  "nbformat": 4,
  "nbformat_minor": 0,
  "metadata": {
    "colab": {
      "provenance": [],
      "authorship_tag": "ABX9TyOW3AZ1HFSsQ9Vhe5lqBhc5",
      "include_colab_link": true
    },
    "kernelspec": {
      "name": "python3",
      "display_name": "Python 3"
    },
    "language_info": {
      "name": "python"
    }
  },
  "cells": [
    {
      "cell_type": "markdown",
      "metadata": {
        "id": "view-in-github",
        "colab_type": "text"
      },
      "source": [
        "<a href=\"https://colab.research.google.com/github/Bomitech02/Python/blob/main/Python%203%3A%20Fundamentals%20course/Random_module_practice.ipynb\" target=\"_parent\"><img src=\"https://colab.research.google.com/assets/colab-badge.svg\" alt=\"Open In Colab\"/></a>"
      ]
    },
    {
      "cell_type": "code",
      "execution_count": 46,
      "metadata": {
        "colab": {
          "base_uri": "https://localhost:8080/"
        },
        "id": "18iC3NSQEaHP",
        "outputId": "2bcb3c57-f7f4-4b24-e279-d136bbe46b68"
      },
      "outputs": [
        {
          "output_type": "execute_result",
          "data": {
            "text/plain": [
              "[13, 14, 2, 9, 17, 16, 13, 10, 16, 12]"
            ]
          },
          "metadata": {},
          "execution_count": 46
        }
      ],
      "source": [
        "import random\n",
        "random.seed(0)"
      ]
    },
    {
      "cell_type": "code",
      "source": [
        "data_1 = [\n",
        "    (1, 12.3),\n",
        "    (2, 30.7),\n",
        "    (3, 20.5),\n",
        "    (4, 36.5)\n",
        "]\n",
        "\n",
        "data_2 = [\n",
        "    ('a', 12.3),\n",
        "    ('b', 30.7),\n",
        "    ('c', 20.5),\n",
        "    ('d', 36.5)\n",
        "]\n",
        "\n",
        "data_3 = [\n",
        "    ('abc', 12.3),\n",
        "    ('d', 30.7),\n",
        "    ('ef', 20.5),\n",
        "    ('ghi', 36.5)\n",
        "]\n",
        "\n",
        "key_lengths = [len(str(freq[el])) for el in freq]\n",
        "key_lengths\n",
        "\n",
        "def chart_freq(data):\n",
        "  pad = max([len(str(el[0])) for el in data])\n",
        "  for k, v in data:\n",
        "    print(f\"{str(k).rjust(pad)}| {'*' * round(v)}\")\n",
        "\n",
        "chart_freq(data_3)"
      ],
      "metadata": {
        "colab": {
          "base_uri": "https://localhost:8080/"
        },
        "id": "L_MWRedSd1zR",
        "outputId": "ec56ccf4-ec0c-4a1f-9632-a7fe4d2ad7c6"
      },
      "execution_count": 86,
      "outputs": [
        {
          "output_type": "stream",
          "name": "stdout",
          "text": [
            "abc| ************\n",
            "  d| *******************************\n",
            " ef| ********************\n",
            "ghi| ************************************\n"
          ]
        }
      ]
    },
    {
      "cell_type": "code",
      "source": [
        "random.seed(0)\n",
        "data = [random.randint(1, 10) for _ in range(5)]\n",
        "\n",
        "freq = {}\n",
        "for el in data:\n",
        "  freq[el] = freq.get(el, 0) + 1\n",
        "\n",
        "freq"
      ],
      "metadata": {
        "colab": {
          "base_uri": "https://localhost:8080/"
        },
        "id": "BRMzgZ7mt3-T",
        "outputId": "16418fc3-8567-4a3c-a097-7e557fba3102"
      },
      "execution_count": 87,
      "outputs": [
        {
          "output_type": "execute_result",
          "data": {
            "text/plain": [
              "{7: 2, 1: 1, 5: 1, 9: 1}"
            ]
          },
          "metadata": {},
          "execution_count": 87
        }
      ]
    },
    {
      "cell_type": "code",
      "source": [
        "#Creating a function to return a dict for the K,V of the data \n",
        "def freq_distribution(data):\n",
        "  freq = {}\n",
        "  for i in data:\n",
        "    freq[i] = freq.get(i, 0) + 1\n",
        "  return freq\n",
        "\n",
        "print(freq_distribution(data))\n",
        "\n",
        "data_copy = data.copy()\n",
        "\n",
        "data_copy\n",
        "\n",
        "new_freq = {}\n",
        "for el in data_copy:\n",
        "  new_freq[el] = new_freq.get(el, 0) + 1\n",
        "total = sum(new_freq.values())\n",
        "\n",
        "for val in new_freq:\n",
        "  new_freq[val] = new_freq[val]/total * 100\n",
        "new_freq "
      ],
      "metadata": {
        "colab": {
          "base_uri": "https://localhost:8080/"
        },
        "id": "FgnwvEi-upmO",
        "outputId": "be87e6e2-d640-4786-8aef-fd477c8897db"
      },
      "execution_count": 112,
      "outputs": [
        {
          "output_type": "stream",
          "name": "stdout",
          "text": [
            "{7: 2, 1: 1, 5: 1, 9: 1}\n"
          ]
        },
        {
          "output_type": "execute_result",
          "data": {
            "text/plain": [
              "{7: 40.0, 1: 20.0, 5: 20.0, 9: 20.0}"
            ]
          },
          "metadata": {},
          "execution_count": 112
        }
      ]
    },
    {
      "cell_type": "code",
      "source": [],
      "metadata": {
        "colab": {
          "base_uri": "https://localhost:8080/"
        },
        "id": "XzalRXvmzivl",
        "outputId": "a3ad8794-d2b2-4b98-a3d1-ee0879f58460"
      },
      "execution_count": 111,
      "outputs": [
        {
          "output_type": "execute_result",
          "data": {
            "text/plain": [
              "{7: 40.0, 1: 20.0, 5: 20.0, 9: 20.0}"
            ]
          },
          "metadata": {},
          "execution_count": 111
        }
      ]
    }
  ]
}