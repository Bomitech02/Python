{
  "nbformat": 4,
  "nbformat_minor": 0,
  "metadata": {
    "colab": {
      "provenance": [],
      "authorship_tag": "ABX9TyNCc1aedsNlVFsM0ozeUbFt",
      "include_colab_link": true
    },
    "kernelspec": {
      "name": "python3",
      "display_name": "Python 3"
    },
    "language_info": {
      "name": "python"
    }
  },
  "cells": [
    {
      "cell_type": "markdown",
      "metadata": {
        "id": "view-in-github",
        "colab_type": "text"
      },
      "source": [
        "<a href=\"https://colab.research.google.com/github/Bomitech02/Python/blob/main/Python%203%3A%20Fundamentals%20course/Random_module_practice.ipynb\" target=\"_parent\"><img src=\"https://colab.research.google.com/assets/colab-badge.svg\" alt=\"Open In Colab\"/></a>"
      ]
    },
    {
      "cell_type": "code",
      "execution_count": 46,
      "metadata": {
        "colab": {
          "base_uri": "https://localhost:8080/"
        },
        "id": "18iC3NSQEaHP",
        "outputId": "2bcb3c57-f7f4-4b24-e279-d136bbe46b68"
      },
      "outputs": [
        {
          "output_type": "execute_result",
          "data": {
            "text/plain": [
              "[13, 14, 2, 9, 17, 16, 13, 10, 16, 12]"
            ]
          },
          "metadata": {},
          "execution_count": 46
        }
      ],
      "source": [
        "import random\n",
        "random.seed(0)"
      ]
    },
    {
      "cell_type": "code",
      "source": [
        "data_1 = [\n",
        "    (1, 12.3),\n",
        "    (2, 30.7),\n",
        "    (3, 20.5),\n",
        "    (4, 36.5)\n",
        "]\n",
        "\n",
        "data_2 = [\n",
        "    ('a', 12.3),\n",
        "    ('b', 30.7),\n",
        "    ('c', 20.5),\n",
        "    ('d', 36.5)\n",
        "]\n",
        "\n",
        "data_3 = [\n",
        "    ('abc', 12.3),\n",
        "    ('d', 30.7),\n",
        "    ('ef', 20.5),\n",
        "    ('ghi', 36.5)\n",
        "]\n",
        "\n",
        "key_lengths = [len(str(freq[el])) for el in freq]\n",
        "key_lengths\n",
        "\n",
        "def chart_freq(data):\n",
        "  pad = max([len(str(el[0])) for el in data])\n",
        "  for k, v in data:\n",
        "    print(f\"{str(k).rjust(pad)}| {'*' * round(v)}\")\n",
        "\n",
        "chart_freq(data_3)\n",
        "\n",
        "random.seed(0)\n",
        "for _ in t"
      ],
      "metadata": {
        "colab": {
          "base_uri": "https://localhost:8080/"
        },
        "id": "L_MWRedSd1zR",
        "outputId": "12f06592-57d7-457d-d6e2-cde8d6bdce11"
      },
      "execution_count": 71,
      "outputs": [
        {
          "output_type": "stream",
          "name": "stdout",
          "text": [
            "abc| ************\n",
            "  d| *******************************\n",
            " ef| ********************\n",
            "ghi| ************************************\n"
          ]
        }
      ]
    },
    {
      "cell_type": "code",
      "source": [
        "data = [random.randint(1, 20) for _ in range(10)]\n",
        "\n",
        "freq = {}\n",
        "for el in data:\n",
        "  freq[el] = freq.get(el, 0) + 1\n",
        "\n",
        "freq"
      ],
      "metadata": {
        "colab": {
          "base_uri": "https://localhost:8080/"
        },
        "id": "BRMzgZ7mt3-T",
        "outputId": "e772e8f2-74dc-4bc8-e7e9-e48e1daedf82"
      },
      "execution_count": 72,
      "outputs": [
        {
          "output_type": "execute_result",
          "data": {
            "text/plain": [
              "{19: 1, 7: 1, 17: 1, 5: 2, 10: 1, 4: 1, 20: 1, 9: 1, 18: 1}"
            ]
          },
          "metadata": {},
          "execution_count": 72
        }
      ]
    }
  ]
}