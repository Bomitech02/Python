{
  "nbformat": 4,
  "nbformat_minor": 0,
  "metadata": {
    "colab": {
      "provenance": [],
      "authorship_tag": "ABX9TyNgT9EImDzqGiruknaKAncp",
      "include_colab_link": true
    },
    "kernelspec": {
      "name": "python3",
      "display_name": "Python 3"
    },
    "language_info": {
      "name": "python"
    }
  },
  "cells": [
    {
      "cell_type": "markdown",
      "metadata": {
        "id": "view-in-github",
        "colab_type": "text"
      },
      "source": [
        "<a href=\"https://colab.research.google.com/github/Bomitech02/Python/blob/main/Data%20science/Naukri_data/Naukri_data_cleaning.ipynb\" target=\"_parent\"><img src=\"https://colab.research.google.com/assets/colab-badge.svg\" alt=\"Open In Colab\"/></a>"
      ]
    },
    {
      "cell_type": "code",
      "execution_count": null,
      "metadata": {
        "colab": {
          "base_uri": "https://localhost:8080/"
        },
        "id": "JrlzFujNDmtA",
        "outputId": "572b427b-c022-4530-956f-e508d293415c"
      },
      "outputs": [
        {
          "output_type": "execute_result",
          "data": {
            "text/plain": [
              "(22000, 14)"
            ]
          },
          "metadata": {},
          "execution_count": 184
        }
      ],
      "source": [
        "# Code to read csv file into colaboratory:\n",
        "!pip install -U -q PyDrive\n",
        "from pydrive.auth import GoogleAuth\n",
        "from pydrive.drive import GoogleDrive\n",
        "from google.colab import auth\n",
        "from oauth2client.client import GoogleCredentials\n",
        "\n",
        "#STEP-2: Autheticate E-Mail ID\n",
        "auth.authenticate_user()\n",
        "gauth = GoogleAuth()\n",
        "gauth.credentials = GoogleCredentials.get_application_default()\n",
        "drive = GoogleDrive(gauth)\n",
        "\n",
        "#STEP-3: Get File from Drive using file-ID\n",
        "#2.1 Get the file\n",
        "downloaded = drive.CreateFile({'id':'1qGfRs0P1JHsAXK_l7gboWuj0hgzKaDBa'}) # replace the id with id of file you want to access\n",
        "downloaded.GetContentFile('naukri.csv')\n",
        "\n",
        "#For basic operations\n",
        "import pandas as pd\n",
        "import numpy as np\n",
        "\n",
        "#For data visualization \n",
        "import matplotlib.pyplot as plt\n",
        "import seaborn as sns\n",
        "\n",
        "data = pd.read_csv('naukri.csv')\n",
        "data.shape\n"
      ]
    },
    {
      "cell_type": "code",
      "source": [
        "data.head()"
      ],
      "metadata": {
        "colab": {
          "base_uri": "https://localhost:8080/",
          "height": 617
        },
        "id": "KGzEF_r4GaQf",
        "outputId": "81e389ae-a50b-46b3-a7f3-c41f210a8469"
      },
      "execution_count": null,
      "outputs": [
        {
          "output_type": "execute_result",
          "data": {
            "text/plain": [
              "                                      company  \\\n",
              "0                            MM Media Pvt Ltd   \n",
              "1                          find live infotech   \n",
              "2         Softtech Career Infosystem Pvt. Ltd   \n",
              "3                      Onboard HRServices LLP   \n",
              "4  Spire Technologies and Solutions Pvt. Ltd.   \n",
              "\n",
              "                                           education   experience  \\\n",
              "0  UG: B.Tech/B.E. - Any Specialization PG:Any Po...    0 - 1 yrs   \n",
              "1  UG: B.Tech/B.E. - Any Specialization PG:MBA/PG...    0 - 0 yrs   \n",
              "2  UG: Any Graduate - Any Specialization PG:Any P...    4 - 8 yrs   \n",
              "3  UG: Any Graduate - Any Specialization PG:CA Do...  11 - 15 yrs   \n",
              "4  UG: B.Tech/B.E. - Any Specialization PG:Any Po...    6 - 8 yrs   \n",
              "\n",
              "                                   industry  \\\n",
              "0          Media / Entertainment / Internet   \n",
              "1  Advertising / PR / MR / Event Management   \n",
              "2           IT-Software / Software Services   \n",
              "3    Banking / Financial Services / Broking   \n",
              "4           IT-Software / Software Services   \n",
              "\n",
              "                                      jobdescription         jobid  \\\n",
              "0  Job Description   Send me Jobs like this Quali...  210516002263   \n",
              "1  Job Description   Send me Jobs like this Quali...  210516002391   \n",
              "2  Job Description   Send me Jobs like this - as ...  101016900534   \n",
              "3  Job Description   Send me Jobs like this - Inv...   81016900536   \n",
              "4  Job Description   Send me Jobs like this Pleas...  120916002122   \n",
              "\n",
              "                                 joblocation_address  \\\n",
              "0                                            Chennai   \n",
              "1                                            Chennai   \n",
              "2                                          Bengaluru   \n",
              "3  Mumbai, Bengaluru, Kolkata, Chennai, Coimbator...   \n",
              "4                                          Bengaluru   \n",
              "\n",
              "                                   jobtitle  numberofpositions  \\\n",
              "0  Walkin Data Entry Operator (night Shift)                NaN   \n",
              "1        Work Based Onhome Based Part Time.               60.0   \n",
              "2                    Pl/sql Developer - SQL                NaN   \n",
              "3    Manager/ad/partner - Indirect Tax - CA                NaN   \n",
              "4           JAVA Technical Lead (6-8 yrs) -                4.0   \n",
              "\n",
              "                          payrate                   postdate site_name  \\\n",
              "0         1,50,000 - 2,25,000 P.A  2016-05-21 19:30:00 +0000       NaN   \n",
              "1  1,50,000 - 2,50,000 P.A. 20000  2016-05-21 19:30:00 +0000       NaN   \n",
              "2      Not Disclosed by Recruiter  2016-10-13 16:20:55 +0000       NaN   \n",
              "3      Not Disclosed by Recruiter  2016-10-13 16:20:55 +0000       NaN   \n",
              "4      Not Disclosed by Recruiter  2016-10-13 16:20:55 +0000       NaN   \n",
              "\n",
              "                                  skills                           uniq_id  \n",
              "0                                   ITES  43b19632647068535437c774b6ca6cf8  \n",
              "1                              Marketing  d4c72325e57f89f364812b5ed5a795f0  \n",
              "2  IT Software - Application Programming  c47df6f4cfdf5b46f1fd713ba61b9eba  \n",
              "3                               Accounts  115d28f140f694dd1cc61c53d03c66ae  \n",
              "4  IT Software - Application Programming  a12553fc03bc7bcced8b1bb8963f97b4  "
            ],
            "text/html": [
              "\n",
              "  <div id=\"df-a06c87be-2f0c-4b31-9b4b-659dd1571e60\">\n",
              "    <div class=\"colab-df-container\">\n",
              "      <div>\n",
              "<style scoped>\n",
              "    .dataframe tbody tr th:only-of-type {\n",
              "        vertical-align: middle;\n",
              "    }\n",
              "\n",
              "    .dataframe tbody tr th {\n",
              "        vertical-align: top;\n",
              "    }\n",
              "\n",
              "    .dataframe thead th {\n",
              "        text-align: right;\n",
              "    }\n",
              "</style>\n",
              "<table border=\"1\" class=\"dataframe\">\n",
              "  <thead>\n",
              "    <tr style=\"text-align: right;\">\n",
              "      <th></th>\n",
              "      <th>company</th>\n",
              "      <th>education</th>\n",
              "      <th>experience</th>\n",
              "      <th>industry</th>\n",
              "      <th>jobdescription</th>\n",
              "      <th>jobid</th>\n",
              "      <th>joblocation_address</th>\n",
              "      <th>jobtitle</th>\n",
              "      <th>numberofpositions</th>\n",
              "      <th>payrate</th>\n",
              "      <th>postdate</th>\n",
              "      <th>site_name</th>\n",
              "      <th>skills</th>\n",
              "      <th>uniq_id</th>\n",
              "    </tr>\n",
              "  </thead>\n",
              "  <tbody>\n",
              "    <tr>\n",
              "      <th>0</th>\n",
              "      <td>MM Media Pvt Ltd</td>\n",
              "      <td>UG: B.Tech/B.E. - Any Specialization PG:Any Po...</td>\n",
              "      <td>0 - 1 yrs</td>\n",
              "      <td>Media / Entertainment / Internet</td>\n",
              "      <td>Job Description   Send me Jobs like this Quali...</td>\n",
              "      <td>210516002263</td>\n",
              "      <td>Chennai</td>\n",
              "      <td>Walkin Data Entry Operator (night Shift)</td>\n",
              "      <td>NaN</td>\n",
              "      <td>1,50,000 - 2,25,000 P.A</td>\n",
              "      <td>2016-05-21 19:30:00 +0000</td>\n",
              "      <td>NaN</td>\n",
              "      <td>ITES</td>\n",
              "      <td>43b19632647068535437c774b6ca6cf8</td>\n",
              "    </tr>\n",
              "    <tr>\n",
              "      <th>1</th>\n",
              "      <td>find live infotech</td>\n",
              "      <td>UG: B.Tech/B.E. - Any Specialization PG:MBA/PG...</td>\n",
              "      <td>0 - 0 yrs</td>\n",
              "      <td>Advertising / PR / MR / Event Management</td>\n",
              "      <td>Job Description   Send me Jobs like this Quali...</td>\n",
              "      <td>210516002391</td>\n",
              "      <td>Chennai</td>\n",
              "      <td>Work Based Onhome Based Part Time.</td>\n",
              "      <td>60.0</td>\n",
              "      <td>1,50,000 - 2,50,000 P.A. 20000</td>\n",
              "      <td>2016-05-21 19:30:00 +0000</td>\n",
              "      <td>NaN</td>\n",
              "      <td>Marketing</td>\n",
              "      <td>d4c72325e57f89f364812b5ed5a795f0</td>\n",
              "    </tr>\n",
              "    <tr>\n",
              "      <th>2</th>\n",
              "      <td>Softtech Career Infosystem Pvt. Ltd</td>\n",
              "      <td>UG: Any Graduate - Any Specialization PG:Any P...</td>\n",
              "      <td>4 - 8 yrs</td>\n",
              "      <td>IT-Software / Software Services</td>\n",
              "      <td>Job Description   Send me Jobs like this - as ...</td>\n",
              "      <td>101016900534</td>\n",
              "      <td>Bengaluru</td>\n",
              "      <td>Pl/sql Developer - SQL</td>\n",
              "      <td>NaN</td>\n",
              "      <td>Not Disclosed by Recruiter</td>\n",
              "      <td>2016-10-13 16:20:55 +0000</td>\n",
              "      <td>NaN</td>\n",
              "      <td>IT Software - Application Programming</td>\n",
              "      <td>c47df6f4cfdf5b46f1fd713ba61b9eba</td>\n",
              "    </tr>\n",
              "    <tr>\n",
              "      <th>3</th>\n",
              "      <td>Onboard HRServices LLP</td>\n",
              "      <td>UG: Any Graduate - Any Specialization PG:CA Do...</td>\n",
              "      <td>11 - 15 yrs</td>\n",
              "      <td>Banking / Financial Services / Broking</td>\n",
              "      <td>Job Description   Send me Jobs like this - Inv...</td>\n",
              "      <td>81016900536</td>\n",
              "      <td>Mumbai, Bengaluru, Kolkata, Chennai, Coimbator...</td>\n",
              "      <td>Manager/ad/partner - Indirect Tax - CA</td>\n",
              "      <td>NaN</td>\n",
              "      <td>Not Disclosed by Recruiter</td>\n",
              "      <td>2016-10-13 16:20:55 +0000</td>\n",
              "      <td>NaN</td>\n",
              "      <td>Accounts</td>\n",
              "      <td>115d28f140f694dd1cc61c53d03c66ae</td>\n",
              "    </tr>\n",
              "    <tr>\n",
              "      <th>4</th>\n",
              "      <td>Spire Technologies and Solutions Pvt. Ltd.</td>\n",
              "      <td>UG: B.Tech/B.E. - Any Specialization PG:Any Po...</td>\n",
              "      <td>6 - 8 yrs</td>\n",
              "      <td>IT-Software / Software Services</td>\n",
              "      <td>Job Description   Send me Jobs like this Pleas...</td>\n",
              "      <td>120916002122</td>\n",
              "      <td>Bengaluru</td>\n",
              "      <td>JAVA Technical Lead (6-8 yrs) -</td>\n",
              "      <td>4.0</td>\n",
              "      <td>Not Disclosed by Recruiter</td>\n",
              "      <td>2016-10-13 16:20:55 +0000</td>\n",
              "      <td>NaN</td>\n",
              "      <td>IT Software - Application Programming</td>\n",
              "      <td>a12553fc03bc7bcced8b1bb8963f97b4</td>\n",
              "    </tr>\n",
              "  </tbody>\n",
              "</table>\n",
              "</div>\n",
              "      <button class=\"colab-df-convert\" onclick=\"convertToInteractive('df-a06c87be-2f0c-4b31-9b4b-659dd1571e60')\"\n",
              "              title=\"Convert this dataframe to an interactive table.\"\n",
              "              style=\"display:none;\">\n",
              "        \n",
              "  <svg xmlns=\"http://www.w3.org/2000/svg\" height=\"24px\"viewBox=\"0 0 24 24\"\n",
              "       width=\"24px\">\n",
              "    <path d=\"M0 0h24v24H0V0z\" fill=\"none\"/>\n",
              "    <path d=\"M18.56 5.44l.94 2.06.94-2.06 2.06-.94-2.06-.94-.94-2.06-.94 2.06-2.06.94zm-11 1L8.5 8.5l.94-2.06 2.06-.94-2.06-.94L8.5 2.5l-.94 2.06-2.06.94zm10 10l.94 2.06.94-2.06 2.06-.94-2.06-.94-.94-2.06-.94 2.06-2.06.94z\"/><path d=\"M17.41 7.96l-1.37-1.37c-.4-.4-.92-.59-1.43-.59-.52 0-1.04.2-1.43.59L10.3 9.45l-7.72 7.72c-.78.78-.78 2.05 0 2.83L4 21.41c.39.39.9.59 1.41.59.51 0 1.02-.2 1.41-.59l7.78-7.78 2.81-2.81c.8-.78.8-2.07 0-2.86zM5.41 20L4 18.59l7.72-7.72 1.47 1.35L5.41 20z\"/>\n",
              "  </svg>\n",
              "      </button>\n",
              "      \n",
              "  <style>\n",
              "    .colab-df-container {\n",
              "      display:flex;\n",
              "      flex-wrap:wrap;\n",
              "      gap: 12px;\n",
              "    }\n",
              "\n",
              "    .colab-df-convert {\n",
              "      background-color: #E8F0FE;\n",
              "      border: none;\n",
              "      border-radius: 50%;\n",
              "      cursor: pointer;\n",
              "      display: none;\n",
              "      fill: #1967D2;\n",
              "      height: 32px;\n",
              "      padding: 0 0 0 0;\n",
              "      width: 32px;\n",
              "    }\n",
              "\n",
              "    .colab-df-convert:hover {\n",
              "      background-color: #E2EBFA;\n",
              "      box-shadow: 0px 1px 2px rgba(60, 64, 67, 0.3), 0px 1px 3px 1px rgba(60, 64, 67, 0.15);\n",
              "      fill: #174EA6;\n",
              "    }\n",
              "\n",
              "    [theme=dark] .colab-df-convert {\n",
              "      background-color: #3B4455;\n",
              "      fill: #D2E3FC;\n",
              "    }\n",
              "\n",
              "    [theme=dark] .colab-df-convert:hover {\n",
              "      background-color: #434B5C;\n",
              "      box-shadow: 0px 1px 3px 1px rgba(0, 0, 0, 0.15);\n",
              "      filter: drop-shadow(0px 1px 2px rgba(0, 0, 0, 0.3));\n",
              "      fill: #FFFFFF;\n",
              "    }\n",
              "  </style>\n",
              "\n",
              "      <script>\n",
              "        const buttonEl =\n",
              "          document.querySelector('#df-a06c87be-2f0c-4b31-9b4b-659dd1571e60 button.colab-df-convert');\n",
              "        buttonEl.style.display =\n",
              "          google.colab.kernel.accessAllowed ? 'block' : 'none';\n",
              "\n",
              "        async function convertToInteractive(key) {\n",
              "          const element = document.querySelector('#df-a06c87be-2f0c-4b31-9b4b-659dd1571e60');\n",
              "          const dataTable =\n",
              "            await google.colab.kernel.invokeFunction('convertToInteractive',\n",
              "                                                     [key], {});\n",
              "          if (!dataTable) return;\n",
              "\n",
              "          const docLinkHtml = 'Like what you see? Visit the ' +\n",
              "            '<a target=\"_blank\" href=https://colab.research.google.com/notebooks/data_table.ipynb>data table notebook</a>'\n",
              "            + ' to learn more about interactive tables.';\n",
              "          element.innerHTML = '';\n",
              "          dataTable['output_type'] = 'display_data';\n",
              "          await google.colab.output.renderOutput(dataTable, element);\n",
              "          const docLink = document.createElement('div');\n",
              "          docLink.innerHTML = docLinkHtml;\n",
              "          element.appendChild(docLink);\n",
              "        }\n",
              "      </script>\n",
              "    </div>\n",
              "  </div>\n",
              "  "
            ]
          },
          "metadata": {},
          "execution_count": 185
        }
      ]
    },
    {
      "cell_type": "code",
      "source": [
        "#Clean the location address by splitting and extracting the first 5 locations\n",
        "data['joblocation_address'] = data['joblocation_address'].str.split(',')\n",
        "data['joblocation_address'].iloc[:5]"
      ],
      "metadata": {
        "colab": {
          "base_uri": "https://localhost:8080/"
        },
        "id": "V4BplUSyGnsx",
        "outputId": "82e8ecc2-9c10-4c92-ed67-b23f77cb31cd"
      },
      "execution_count": null,
      "outputs": [
        {
          "output_type": "execute_result",
          "data": {
            "text/plain": [
              "0                                            [Chennai]\n",
              "1                                            [Chennai]\n",
              "2                                          [Bengaluru]\n",
              "3    [Mumbai,  Bengaluru,  Kolkata,  Chennai,  Coim...\n",
              "4                                          [Bengaluru]\n",
              "Name: joblocation_address, dtype: object"
            ]
          },
          "metadata": {},
          "execution_count": 186
        }
      ]
    },
    {
      "cell_type": "code",
      "source": [
        "data = data.explode('joblocation_address')\n",
        "pd.set_option('max_rows', 30000)\n",
        "data['joblocation_address'].value_counts()[:20]"
      ],
      "metadata": {
        "colab": {
          "base_uri": "https://localhost:8080/"
        },
        "id": "ImKWzEvbGn4m",
        "outputId": "c1b4fdec-f748-4268-92cb-9a28b7bb3183"
      },
      "execution_count": null,
      "outputs": [
        {
          "output_type": "execute_result",
          "data": {
            "text/plain": [
              "Bengaluru/Bangalore           3775\n",
              "Mumbai                        2593\n",
              "Bengaluru/Bangalore           2134\n",
              "Bengaluru                     2026\n",
              " Mumbai                       1378\n",
              "Chennai                       1290\n",
              "Hyderabad / Secunderabad      1246\n",
              "Hyderabad                     1154\n",
              "Mumbai                        1067\n",
              " Mumbai                        923\n",
              " Chennai                       905\n",
              "Delhi                          790\n",
              "Noida                          777\n",
              "Gurgaon                        762\n",
              " Chennai                       738\n",
              " Hyderabad / Secunderabad      700\n",
              "Delhi                          680\n",
              " Pune                          645\n",
              " Delhi                         602\n",
              " Gurgaon                       557\n",
              "Name: joblocation_address, dtype: int64"
            ]
          },
          "metadata": {},
          "execution_count": 187
        }
      ]
    },
    {
      "cell_type": "code",
      "source": [
        "#Cleaning what I can due to insuffucient time\n",
        "data['joblocation_address'] = data['joblocation_address'].replace(('Bengaluru/Bangalore','Bengaluru/Bangalore ',' Mumbai',' Mumbai ',' Chennai ','Chennai ',' Hyderabad / Secunderabad ',' Pune', ' Delhi', ' Gurgaon', ' Hyderabad'),('Bangalore','Bangalore','Mumbai','Mumbai','Chennai','Chennai','Secunderabad', 'Pune', 'Delhi', 'Gurgaon', 'Hyderabad'))\n",
        "data['joblocation_address'].value_counts()[:20]"
      ],
      "metadata": {
        "colab": {
          "base_uri": "https://localhost:8080/"
        },
        "id": "BfNXST-MJWrz",
        "outputId": "8d1f0ffe-4787-419a-f2c2-f40914448d2a"
      },
      "execution_count": null,
      "outputs": [
        {
          "output_type": "execute_result",
          "data": {
            "text/plain": [
              "Bangalore                    5909\n",
              "Mumbai                       4894\n",
              "Chennai                      2631\n",
              "Bengaluru                    2026\n",
              "Hyderabad                    1710\n",
              "Delhi                        1392\n",
              "Gurgaon                      1319\n",
              "Hyderabad / Secunderabad     1246\n",
              "Mumbai                       1067\n",
              "Noida                         777\n",
              " Chennai                      738\n",
              "Secunderabad                  700\n",
              "Pune                          695\n",
              "Delhi                         680\n",
              "Noida                         490\n",
              " Pune                         486\n",
              " Hyderabad / Secunderabad     444\n",
              " Bengaluru/Bangalore          425\n",
              " Bengaluru                    415\n",
              " Delhi                        393\n",
              "Name: joblocation_address, dtype: int64"
            ]
          },
          "metadata": {},
          "execution_count": 188
        }
      ]
    },
    {
      "cell_type": "code",
      "source": [
        "#Remove the cities with less than 25 opennings\n",
        "counts = data['joblocation_address'].value_counts()\n",
        "data = data.loc[data['joblocation_address'].isin(counts.index [counts > 25])]\n",
        "display(data['joblocation_address'].value_counts())"
      ],
      "metadata": {
        "colab": {
          "base_uri": "https://localhost:8080/",
          "height": 1000
        },
        "id": "LhNJsAvYNWnE",
        "outputId": "6d25cafb-8f8d-44e4-a111-242e9ad9800c"
      },
      "execution_count": null,
      "outputs": [
        {
          "output_type": "display_data",
          "data": {
            "text/plain": [
              "Bangalore                               5909\n",
              "Mumbai                                  4894\n",
              "Chennai                                 2631\n",
              "Bengaluru                               2026\n",
              "Hyderabad                               1710\n",
              "Delhi                                   1392\n",
              "Gurgaon                                 1319\n",
              "Hyderabad / Secunderabad                1246\n",
              "Mumbai                                  1067\n",
              "Noida                                    777\n",
              " Chennai                                 738\n",
              "Secunderabad                             700\n",
              "Pune                                     695\n",
              "Delhi                                    680\n",
              "Noida                                    490\n",
              " Pune                                    486\n",
              " Hyderabad / Secunderabad                444\n",
              " Bengaluru/Bangalore                     425\n",
              " Bengaluru                               415\n",
              " Delhi                                   393\n",
              "Delhi/NCR(National Capital Region)       388\n",
              "Delhi/NCR(National Capital Region)       383\n",
              " Bengaluru / Bangalore                   365\n",
              " Delhi/NCR(National Capital Region)      353\n",
              " Bengaluru / Bangalore                   352\n",
              " Noida/Greater Noida                     345\n",
              "Gurgaon                                  336\n",
              " Delhi/NCR(National Capital Region)      314\n",
              " Kolkata                                 287\n",
              " Bengaluru/Bangalore                     271\n",
              "Hyderabad / Secunderabad                 258\n",
              " Gurgaon                                 254\n",
              " Noida                                   242\n",
              " Kolkata                                 229\n",
              " Ahmedabad                               195\n",
              " Noida                                   172\n",
              " Delhi/NCR                               141\n",
              " Delhi NCR                               121\n",
              " Ahmedabad                               120\n",
              " Hyderabad/Secunderabad                  115\n",
              " Navi Mumbai                             114\n",
              "Ghaziabad                                102\n",
              " Hyderabad/Secunderabad                   95\n",
              " Chandigarh                               94\n",
              " Surat                                    90\n",
              " Mumbai Suburbs                           81\n",
              " Ernakulam / Kochi/ Cochin                74\n",
              "Ahmedabad                                 73\n",
              " Coimbatore                               70\n",
              " Chandigarh                               69\n",
              " Jaipur                                   64\n",
              " karnataka                                63\n",
              " Coimbatore                               60\n",
              "Navi Mumbai                               57\n",
              "Delhi NCR                                 55\n",
              " Vijayawada                               51\n",
              " Bengaluru Bangalore                      49\n",
              " Lucknow                                  49\n",
              " Jaipur                                   48\n",
              " Indore                                   48\n",
              "Bengaluru Bangalore                       47\n",
              " Faridabad                                47\n",
              " Lucknow                                  47\n",
              " Delhi/NCR                                46\n",
              "Pune                                      46\n",
              " maharashtra                              46\n",
              " Ghaziabad                                46\n",
              " Bhubaneshwar                             43\n",
              " mumbai                                   42\n",
              "Mumbai Suburbs                            40\n",
              "Faridabad                                 40\n",
              " Visakhapatnam                            38\n",
              " Faridabad                                38\n",
              " Visakhapatnam/Vizag                      37\n",
              " Trivandrum                               37\n",
              " Noida/Greater Noida                      36\n",
              "Faridabad                                 34\n",
              " Visakhapatnam/Vizag                      33\n",
              " Trivandrum                               32\n",
              " Mangalore                                32\n",
              " Navi Mumbai                              31\n",
              " Guwahati                                 31\n",
              " Bhubaneshwar                             31\n",
              " Ernakulam / Kochi/ Cochin                30\n",
              " Nagpur                                   29\n",
              " Raipur                                   28\n",
              " Vijayawada                               28\n",
              " Mumbai Suburbs                           26\n",
              "Name: joblocation_address, dtype: int64"
            ]
          },
          "metadata": {}
        }
      ]
    },
    {
      "cell_type": "code",
      "source": [
        "#Clean the experience records\n",
        "data['experience'][:6]"
      ],
      "metadata": {
        "colab": {
          "base_uri": "https://localhost:8080/"
        },
        "id": "oXwGUlQ0TwVb",
        "outputId": "41467996-ac99-4b52-e24b-a1d4d61f1876"
      },
      "execution_count": null,
      "outputs": [
        {
          "output_type": "execute_result",
          "data": {
            "text/plain": [
              "0      0 - 1 yrs\n",
              "1      0 - 0 yrs\n",
              "2      4 - 8 yrs\n",
              "3    11 - 15 yrs\n",
              "3    11 - 15 yrs\n",
              "3    11 - 15 yrs\n",
              "Name: experience, dtype: object"
            ]
          },
          "metadata": {},
          "execution_count": 190
        }
      ]
    },
    {
      "cell_type": "code",
      "source": [
        "pd.set_option('max_rows', 40000)"
      ],
      "metadata": {
        "id": "Q4g8XZa8T8fr"
      },
      "execution_count": null,
      "outputs": []
    },
    {
      "cell_type": "code",
      "source": [
        "data['experience'] = data['experience'].str.split(\" \")\n",
        "data['min experience'] = data['experience'].apply(lambda x: x[0])\n",
        "data['max experience'] = data['experience'].apply(lambda x: x[2] if len(x) > 2 else x[1])\n",
        "data['min experience'].value_counts()\n",
        "\n"
      ],
      "metadata": {
        "colab": {
          "base_uri": "https://localhost:8080/"
        },
        "id": "bUvZ5WXww4uD",
        "outputId": "be58dbce-6b20-48c5-c6d3-4cb2d6b2822b"
      },
      "execution_count": null,
      "outputs": [
        {
          "output_type": "execute_result",
          "data": {
            "text/plain": [
              "2      7160\n",
              "0      6221\n",
              "3      5263\n",
              "1      4393\n",
              "5      3287\n",
              "4      3095\n",
              "6      1518\n",
              "10     1412\n",
              "8      1276\n",
              "7      1035\n",
              "9       484\n",
              "12      308\n",
              "15      277\n",
              "Not     111\n",
              "11       75\n",
              "13       73\n",
              "14       61\n",
              "20       26\n",
              "18       25\n",
              "16       16\n",
              "17        6\n",
              "23        1\n",
              "25        1\n",
              "26        1\n",
              "Name: min experience, dtype: int64"
            ]
          },
          "metadata": {},
          "execution_count": 192
        }
      ]
    },
    {
      "cell_type": "code",
      "source": [
        "#Cleaning the missing values in min/max experience\n",
        "data['min experience'] = data['min experience'].replace(('Not'), (0))\n",
        "data['max experience'] = data['max experience'].replace(('Mentioned', '-1'), (5, 5))\n",
        "data['max experience'].value_counts()"
      ],
      "metadata": {
        "colab": {
          "base_uri": "https://localhost:8080/"
        },
        "id": "wvnvFQm3AZJV",
        "outputId": "dde955be-d4db-4a53-db73-d750805c6dde"
      },
      "execution_count": null,
      "outputs": [
        {
          "output_type": "execute_result",
          "data": {
            "text/plain": [
              "5     6326\n",
              "7     4410\n",
              "8     3695\n",
              "6     3233\n",
              "3     3174\n",
              "10    2822\n",
              "4     2633\n",
              "9     1789\n",
              "2     1569\n",
              "12    1075\n",
              "11    1053\n",
              "1     1046\n",
              "15     828\n",
              "13     672\n",
              "20     489\n",
              "0      351\n",
              "14     250\n",
              "18     131\n",
              "5      112\n",
              "16     108\n",
              "17      92\n",
              "25      83\n",
              "22      80\n",
              "19      27\n",
              "23      26\n",
              "24      18\n",
              "21      12\n",
              "30      11\n",
              "28       8\n",
              "27       1\n",
              "26       1\n",
              "Name: max experience, dtype: int64"
            ]
          },
          "metadata": {},
          "execution_count": 193
        }
      ]
    },
    {
      "cell_type": "code",
      "source": [
        "#Converting  the yrs of experience to int.\n",
        "data['min experience'] = data['min experience'].astype('int')\n",
        "data['max experience'] = data['max experience'].astype('int')"
      ],
      "metadata": {
        "id": "0BdxZg2eBPbd"
      },
      "execution_count": null,
      "outputs": []
    },
    {
      "cell_type": "code",
      "source": [
        "#Checking for data distribution/spread]\n",
        "plt.rcParams['figure.figsize'] = (15, 4)\n",
        "\n",
        "plt.subplot(1, 2, 1)\n",
        "sns.countplot(data['min experience'], palette = 'magma')\n",
        "plt.xticks(fontsize = 9)\n",
        "plt.ylabel(\" \")\n",
        "\n",
        "plt.subplot(1, 2, 2)\n",
        "sns.countplot(data['max experience'], palette = 'magma')\n",
        "plt.xticks(fontsize = 9)\n",
        "plt.ylabel(\" \")\n",
        "\n",
        "plt.suptitle('Distribution of Experience')\n",
        "plt.show"
      ],
      "metadata": {
        "colab": {
          "base_uri": "https://localhost:8080/",
          "height": 327
        },
        "id": "3Jth1CUDC3Aa",
        "outputId": "95de87db-753c-4593-e0be-01c08adce3be"
      },
      "execution_count": null,
      "outputs": [
        {
          "output_type": "stream",
          "name": "stderr",
          "text": [
            "/usr/local/lib/python3.8/dist-packages/seaborn/_decorators.py:36: FutureWarning: Pass the following variable as a keyword arg: x. From version 0.12, the only valid positional argument will be `data`, and passing other arguments without an explicit keyword will result in an error or misinterpretation.\n",
            "  warnings.warn(\n",
            "/usr/local/lib/python3.8/dist-packages/seaborn/_decorators.py:36: FutureWarning: Pass the following variable as a keyword arg: x. From version 0.12, the only valid positional argument will be `data`, and passing other arguments without an explicit keyword will result in an error or misinterpretation.\n",
            "  warnings.warn(\n"
          ]
        },
        {
          "output_type": "execute_result",
          "data": {
            "text/plain": [
              "<function matplotlib.pyplot.show(*args, **kw)>"
            ]
          },
          "metadata": {},
          "execution_count": 195
        },
        {
          "output_type": "display_data",
          "data": {
            "text/plain": [
              "<Figure size 1080x288 with 2 Axes>"
            ],
            "image/png": "[encoded data removed]"
          },
          "metadata": {
            "needs_background": "light"
          }
        }
      ]
    },
    {
      "cell_type": "code",
      "source": [
        "data['education'][:5]"
      ],
      "metadata": {
        "colab": {
          "base_uri": "https://localhost:8080/"
        },
        "id": "U6I3S_o_EBYm",
        "outputId": "b34832b5-3170-476f-a784-e665e3f44834"
      },
      "execution_count": null,
      "outputs": [
        {
          "output_type": "execute_result",
          "data": {
            "text/plain": [
              "0    UG: B.Tech/B.E. - Any Specialization PG:Any Po...\n",
              "1    UG: B.Tech/B.E. - Any Specialization PG:MBA/PG...\n",
              "2    UG: Any Graduate - Any Specialization PG:Any P...\n",
              "3    UG: Any Graduate - Any Specialization PG:CA Do...\n",
              "3    UG: Any Graduate - Any Specialization PG:CA Do...\n",
              "Name: education, dtype: object"
            ]
          },
          "metadata": {},
          "execution_count": 196
        }
      ]
    },
    {
      "cell_type": "code",
      "source": [
        "data['education'].isnull().sum()"
      ],
      "metadata": {
        "colab": {
          "base_uri": "https://localhost:8080/"
        },
        "id": "8LAOlcXAEKr3",
        "outputId": "c54d1428-8168-4b62-9472-3d9131458cb8"
      },
      "execution_count": null,
      "outputs": [
        {
          "output_type": "execute_result",
          "data": {
            "text/plain": [
              "3076"
            ]
          },
          "metadata": {},
          "execution_count": 197
        }
      ]
    },
    {
      "cell_type": "code",
      "source": [
        "#Replace the missing education with the most common data\n",
        "data['education'] = data['education'].fillna('UG: Any Graduate - Any Specialization')\n",
        "data['education'].isnull().sum()"
      ],
      "metadata": {
        "colab": {
          "base_uri": "https://localhost:8080/"
        },
        "id": "4pPDU1E-EfGI",
        "outputId": "25d1b44e-a92b-4fba-a7c0-9a1c67eeea82"
      },
      "execution_count": null,
      "outputs": [
        {
          "output_type": "execute_result",
          "data": {
            "text/plain": [
              "0"
            ]
          },
          "metadata": {},
          "execution_count": 198
        }
      ]
    },
    {
      "cell_type": "code",
      "source": [
        "data['education'] = data['education'].str.split(' ')\n",
        "data['education'] = data['education'].apply(lambda x: x[1] if len(x) > 1 else x[0])\n",
        "data['education'].value_counts(dropna = False)"
      ],
      "metadata": {
        "colab": {
          "base_uri": "https://localhost:8080/"
        },
        "id": "H6jDAvSDFcaR",
        "outputId": "87619223-114f-42e7-c0eb-2768d43f7391"
      },
      "execution_count": null,
      "outputs": [
        {
          "output_type": "execute_result",
          "data": {
            "text/plain": [
              "Any                    23794\n",
              "B.Tech/B.E.             8730\n",
              "B.Com                    636\n",
              "B.Sc                     525\n",
              "Diploma                  424\n",
              "Graduation               396\n",
              "B.B.A                    260\n",
              "B.A                      238\n",
              "BCA                      172\n",
              "MBBS                     151\n",
              "BDS                      109\n",
              "B.Pharma                  97\n",
              "Other                     86\n",
              "B.Ed                      80\n",
              "LLB                       70\n",
              "Not                       54\n",
              "-                         53\n",
              "BHM                       53\n",
              "Doctorate                 49\n",
              "B.Arch                    37\n",
              "B.Tech/B.E.,              23\n",
              "B.Sc,                     21\n",
              "Postgraduate              14\n",
              "PG:CA                     10\n",
              "Doctorate:Doctorate        9\n",
              "B.Pharma,                  7\n",
              "Diploma,                   5\n",
              "B.Com,                     5\n",
              "BCA,                       3\n",
              "BVSC                       3\n",
              "B.A,                       3\n",
              "B.B.A,                     2\n",
              "MBA/PGDM                   2\n",
              "PG:Other                   1\n",
              "B.Des.                     1\n",
              "BAMS                       1\n",
              "BFA                        1\n",
              "Name: education, dtype: int64"
            ]
          },
          "metadata": {},
          "execution_count": 199
        }
      ]
    },
    {
      "cell_type": "code",
      "source": [
        "data['education'] = data['education'].replace(('B.Tech/B.E.','Graduation','Other','Not','-','B.Tech/B.E.,','B.Sc,','PG:CA','Doctorate:Doctorate','B.Pharma,','Diploma,','B.Com,','BCA,','B.A,','B.B.A,','PG:Other'),\n",
        "                                              ('B.Tech','B.Tech','B.Tech','B.Tech','B.Tech','B.Tech','B.Sc','CA','Doctorate','B.Pharma','Diploma','B.Com','BCA','B.A','B.B.A','B.Tech'))\n",
        "data['education'].value_counts()"
      ],
      "metadata": {
        "colab": {
          "base_uri": "https://localhost:8080/"
        },
        "id": "vpuoWaKDJLi1",
        "outputId": "da64e696-d7c2-460f-8f13-4ded042eacf2"
      },
      "execution_count": null,
      "outputs": [
        {
          "output_type": "execute_result",
          "data": {
            "text/plain": [
              "Any             23794\n",
              "B.Tech           9343\n",
              "B.Com             641\n",
              "B.Sc              546\n",
              "Diploma           429\n",
              "B.B.A             262\n",
              "B.A               241\n",
              "BCA               175\n",
              "MBBS              151\n",
              "BDS               109\n",
              "B.Pharma          104\n",
              "B.Ed               80\n",
              "LLB                70\n",
              "Doctorate          58\n",
              "BHM                53\n",
              "B.Arch             37\n",
              "Postgraduate       14\n",
              "CA                 10\n",
              "BVSC                3\n",
              "MBA/PGDM            2\n",
              "BAMS                1\n",
              "B.Des.              1\n",
              "BFA                 1\n",
              "Name: education, dtype: int64"
            ]
          },
          "metadata": {},
          "execution_count": 200
        }
      ]
    },
    {
      "cell_type": "code",
      "source": [
        "data['industry'][:10]"
      ],
      "metadata": {
        "colab": {
          "base_uri": "https://localhost:8080/"
        },
        "id": "KNwOXzeSM0ks",
        "outputId": "5c4b9106-2f33-461f-b19a-d31e0885c34d"
      },
      "execution_count": null,
      "outputs": [
        {
          "output_type": "execute_result",
          "data": {
            "text/plain": [
              "0            Media / Entertainment / Internet\n",
              "1    Advertising / PR / MR / Event Management\n",
              "2             IT-Software / Software Services\n",
              "3      Banking / Financial Services / Broking\n",
              "3      Banking / Financial Services / Broking\n",
              "3      Banking / Financial Services / Broking\n",
              "3      Banking / Financial Services / Broking\n",
              "3      Banking / Financial Services / Broking\n",
              "4             IT-Software / Software Services\n",
              "5             IT-Software / Software Services\n",
              "Name: industry, dtype: object"
            ]
          },
          "metadata": {},
          "execution_count": 201
        }
      ]
    },
    {
      "cell_type": "code",
      "source": [
        "data['industry'].isnull().sum()"
      ],
      "metadata": {
        "colab": {
          "base_uri": "https://localhost:8080/"
        },
        "id": "6dyje7WQNBqJ",
        "outputId": "2c0842e5-50fe-42c8-e7c2-119a5f513df9"
      },
      "execution_count": null,
      "outputs": [
        {
          "output_type": "execute_result",
          "data": {
            "text/plain": [
              "1"
            ]
          },
          "metadata": {},
          "execution_count": 202
        }
      ]
    },
    {
      "cell_type": "code",
      "source": [
        "data['industry'] = data['industry'].fillna(data['industry'].mode()[0])\n",
        "data['industry'].isnull().sum()"
      ],
      "metadata": {
        "colab": {
          "base_uri": "https://localhost:8080/"
        },
        "id": "rQhsezytNJIn",
        "outputId": "726249d2-f14a-4410-9f38-9c4addc14709"
      },
      "execution_count": null,
      "outputs": [
        {
          "output_type": "execute_result",
          "data": {
            "text/plain": [
              "0"
            ]
          },
          "metadata": {},
          "execution_count": 203
        }
      ]
    },
    {
      "cell_type": "code",
      "source": [
        "data['industry'].str.split('/')[:10]"
      ],
      "metadata": {
        "colab": {
          "base_uri": "https://localhost:8080/"
        },
        "id": "eBZIE1zSNi8t",
        "outputId": "5b819166-4c0f-443b-a3bb-66b7d547e719"
      },
      "execution_count": null,
      "outputs": [
        {
          "output_type": "execute_result",
          "data": {
            "text/plain": [
              "0             [Media ,  Entertainment ,  Internet]\n",
              "1    [Advertising ,  PR ,  MR ,  Event Management]\n",
              "2               [IT-Software ,  Software Services]\n",
              "3       [Banking ,  Financial Services ,  Broking]\n",
              "3       [Banking ,  Financial Services ,  Broking]\n",
              "3       [Banking ,  Financial Services ,  Broking]\n",
              "3       [Banking ,  Financial Services ,  Broking]\n",
              "3       [Banking ,  Financial Services ,  Broking]\n",
              "4               [IT-Software ,  Software Services]\n",
              "5               [IT-Software ,  Software Services]\n",
              "Name: industry, dtype: object"
            ]
          },
          "metadata": {},
          "execution_count": 204
        }
      ]
    },
    {
      "cell_type": "code",
      "source": [
        "#Split the words in the industry col and extract only the first\n",
        "#This time, I am saving the newly formatted data alongside the initial data\n",
        "data['Industry'] = data['industry'].str.split('/')\n",
        "data['Industry'] = data['Industry'].apply(lambda x: x[0])\n",
        "data['Industry'].value_counts()"
      ],
      "metadata": {
        "colab": {
          "base_uri": "https://localhost:8080/"
        },
        "id": "JWAPCOKLNjBb",
        "outputId": "25267aed-f9ce-450b-aec3-0fb567fddbc0"
      },
      "execution_count": null,
      "outputs": [
        {
          "output_type": "execute_result",
          "data": {
            "text/plain": [
              "IT-Software                 14528\n",
              "BPO                          2282\n",
              "Banking                      2056\n",
              "Education                    1696\n",
              "Recruitment                  1517\n",
              "Automobile                   1144\n",
              "Internet                     1018\n",
              "Pharma                        988\n",
              "Construction                  932\n",
              "Medical                       861\n",
              "Travel                        723\n",
              "Industrial Products           599\n",
              "Other                         540\n",
              "Accounting                    539\n",
              "Strategy                      518\n",
              "Advertising                   462\n",
              "IT-Hardware & Networking      438\n",
              "Telecom                       428\n",
              "Media                         425\n",
              "FMCG                          415\n",
              "Insurance                     378\n",
              "Retail                        362\n",
              "Oil and Gas                   338\n",
              "Real Estate                   297\n",
              "Consumer Electronics          265\n",
              "Semiconductors                248\n",
              "Electricals                   234\n",
              "Textiles                      193\n",
              "Courier                       179\n",
              "KPO                           156\n",
              "Chemicals                     140\n",
              "NGO                           122\n",
              "Wellness                      101\n",
              "Architecture                   98\n",
              "Export                         95\n",
              "Ceramics                       78\n",
              "Printing                       62\n",
              "Facility Management            62\n",
              "Agriculture                    61\n",
              "Security                       60\n",
              "Publishing                     54\n",
              "Fresher                        46\n",
              "Iron and Steel                 45\n",
              "Shipping                       39\n",
              "Aviation                       37\n",
              "Legal                          35\n",
              "Animation                      34\n",
              "Gems                           31\n",
              "Food Processing                28\n",
              "Government                     25\n",
              "Office Equipment               23\n",
              "Heat Ventilation               23\n",
              "Water Treatment                15\n",
              "Fertilizers                    14\n",
              "Medical Devices                14\n",
              "Glass                           7\n",
              "Brewery                         7\n",
              "Tyres                           6\n",
              "Pulp and Paper                  2\n",
              "Leather                         1\n",
              "Broadcasting                    1\n",
              "Name: Industry, dtype: int64"
            ]
          },
          "metadata": {},
          "execution_count": 205
        }
      ]
    },
    {
      "cell_type": "code",
      "source": [
        "data['skills'].head(10)"
      ],
      "metadata": {
        "colab": {
          "base_uri": "https://localhost:8080/"
        },
        "id": "mTLL_wNqSi-a",
        "outputId": "9090aa8c-0a23-4051-d2d2-ec6ef3a462f7"
      },
      "execution_count": null,
      "outputs": [
        {
          "output_type": "execute_result",
          "data": {
            "text/plain": [
              "0                                     ITES\n",
              "1                                Marketing\n",
              "2    IT Software - Application Programming\n",
              "3                                 Accounts\n",
              "3                                 Accounts\n",
              "3                                 Accounts\n",
              "3                                 Accounts\n",
              "3                                 Accounts\n",
              "4    IT Software - Application Programming\n",
              "5    IT Software - Application Programming\n",
              "Name: skills, dtype: object"
            ]
          },
          "metadata": {},
          "execution_count": 206
        }
      ]
    },
    {
      "cell_type": "code",
      "source": [
        "data['skills'].isnull().sum()"
      ],
      "metadata": {
        "colab": {
          "base_uri": "https://localhost:8080/"
        },
        "id": "ldA1Dg0bTDqO",
        "outputId": "e0e0ea7b-adf6-4a34-b0f4-54cc776d5814"
      },
      "execution_count": null,
      "outputs": [
        {
          "output_type": "execute_result",
          "data": {
            "text/plain": [
              "791"
            ]
          },
          "metadata": {},
          "execution_count": 207
        }
      ]
    },
    {
      "cell_type": "code",
      "source": [
        "data['skills'] = data['skills'].fillna(data['skills'].mode()[0])\n",
        "data['skills'].isnull().sum()"
      ],
      "metadata": {
        "colab": {
          "base_uri": "https://localhost:8080/"
        },
        "id": "s3wPad_qTjy-",
        "outputId": "e9f5096b-3e1c-4ce9-e7c6-f6fb0cea33dd"
      },
      "execution_count": null,
      "outputs": [
        {
          "output_type": "execute_result",
          "data": {
            "text/plain": [
              "0"
            ]
          },
          "metadata": {},
          "execution_count": 208
        }
      ]
    },
    {
      "cell_type": "code",
      "source": [
        "data['Skills'] = data['skills'].str.split(' - ')\n",
        "data['Skills'] = data['Skills'].apply(lambda x: x[1] if len(x)> 1 else x [0])\n",
        "data['Skills'].value_counts()"
      ],
      "metadata": {
        "id": "DDsAHCytTyQ2"
      },
      "execution_count": null,
      "outputs": []
    },
    {
      "cell_type": "code",
      "source": [
        "data.isnull().sum()"
      ],
      "metadata": {
        "colab": {
          "base_uri": "https://localhost:8080/"
        },
        "id": "yTkSaTJuVH64",
        "outputId": "292fb95f-776d-4f3f-8ec7-3b961ce5d7b8"
      },
      "execution_count": null,
      "outputs": [
        {
          "output_type": "execute_result",
          "data": {
            "text/plain": [
              "company                    0\n",
              "education                  0\n",
              "experience                 0\n",
              "industry                   0\n",
              "jobdescription             0\n",
              "jobid                      0\n",
              "joblocation_address        0\n",
              "jobtitle                   0\n",
              "numberofpositions      27381\n",
              "payrate                   93\n",
              "postdate                  26\n",
              "site_name              30725\n",
              "skills                     0\n",
              "uniq_id                    0\n",
              "min experience             0\n",
              "max experience             0\n",
              "Industry                   0\n",
              "Skills                     0\n",
              "dtype: int64"
            ]
          },
          "metadata": {},
          "execution_count": 211
        }
      ]
    },
    {
      "cell_type": "code",
      "source": [
        "#Update the missing values in noofpositions\n",
        "data['numberofpositions'] = data['numberofpositions'].fillna(1)\n",
        "data['numberofpositions'] = data['numberofpositions'].astype('int')\n",
        "data['numberofpositions'].isnull().sum()"
      ],
      "metadata": {
        "colab": {
          "base_uri": "https://localhost:8080/"
        },
        "id": "ID5Bx6iaVRbF",
        "outputId": "9d436acf-480f-496a-e90d-5b480900e40e"
      },
      "execution_count": null,
      "outputs": [
        {
          "output_type": "execute_result",
          "data": {
            "text/plain": [
              "0"
            ]
          },
          "metadata": {},
          "execution_count": 213
        }
      ]
    },
    {
      "cell_type": "code",
      "source": [
        "#Update the site_name using the mode function\n",
        "data['site_name'] = data['site_name'].fillna(data['site_name'].mode()[0])\n",
        "data['site_name'].value_counts(dropna = False)"
      ],
      "metadata": {
        "colab": {
          "base_uri": "https://localhost:8080/"
        },
        "id": "fKY5ZcPYV2b-",
        "outputId": "40efab77-c3f5-4c40-e9c2-6d3f08d2d29a"
      },
      "execution_count": null,
      "outputs": [
        {
          "output_type": "execute_result",
          "data": {
            "text/plain": [
              "www.naukri.com    36125\n",
              "Name: site_name, dtype: int64"
            ]
          },
          "metadata": {},
          "execution_count": 219
        }
      ]
    },
    {
      "cell_type": "code",
      "source": [
        "data = data.dropna()\n",
        "data.isnull().sum()"
      ],
      "metadata": {
        "colab": {
          "base_uri": "https://localhost:8080/"
        },
        "id": "vAORFc-3XFj6",
        "outputId": "402d609d-632d-41ea-ccab-4450e84ddb88"
      },
      "execution_count": null,
      "outputs": [
        {
          "output_type": "execute_result",
          "data": {
            "text/plain": [
              "company                0\n",
              "education              0\n",
              "experience             0\n",
              "industry               0\n",
              "jobdescription         0\n",
              "jobid                  0\n",
              "joblocation_address    0\n",
              "jobtitle               0\n",
              "numberofpositions      0\n",
              "payrate                0\n",
              "postdate               0\n",
              "site_name              0\n",
              "skills                 0\n",
              "uniq_id                0\n",
              "min experience         0\n",
              "max experience         0\n",
              "Industry               0\n",
              "Skills                 0\n",
              "dtype: int64"
            ]
          },
          "metadata": {},
          "execution_count": 221
        }
      ]
    }
  ]
}